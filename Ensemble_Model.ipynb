{
 "cells": [
  {
   "cell_type": "code",
   "execution_count": 2,
   "id": "4efcd17b-8bb7-4c11-8b41-e0ca72b61943",
   "metadata": {},
   "outputs": [
    {
     "name": "stderr",
     "output_type": "stream",
     "text": [
      "Instalowanie pakietu w 'C:/Users/Ja/AppData/Local/R/win-library/4.2'\n",
      "(ponieważ 'lib' nie jest określony)\n",
      "\n"
     ]
    },
    {
     "name": "stdout",
     "output_type": "stream",
     "text": [
      "pakiet 'tidyverse' został pomyślnie rozpakowany oraz sumy MD5 zostały sprawdzone\n",
      "\n",
      "Pobrane pakiety binarne są w\n",
      "\tC:\\Users\\Ja\\AppData\\Local\\Temp\\RtmpK44au7\\downloaded_packages\n"
     ]
    },
    {
     "name": "stderr",
     "output_type": "stream",
     "text": [
      "Instalowanie pakietu w 'C:/Users/Ja/AppData/Local/R/win-library/4.2'\n",
      "(ponieważ 'lib' nie jest określony)\n",
      "\n"
     ]
    },
    {
     "name": "stdout",
     "output_type": "stream",
     "text": [
      "pakiet 'naivebayes' został pomyślnie rozpakowany oraz sumy MD5 zostały sprawdzone\n",
      "\n",
      "Pobrane pakiety binarne są w\n",
      "\tC:\\Users\\Ja\\AppData\\Local\\Temp\\RtmpK44au7\\downloaded_packages\n"
     ]
    }
   ],
   "source": [
    "install.packages('tidyverse')\n",
    "install.packages('naivebayes')"
   ]
  },
  {
   "cell_type": "code",
   "execution_count": 3,
   "id": "e4e05d80-4aac-4c93-94c7-c62965e9c794",
   "metadata": {},
   "outputs": [
    {
     "name": "stderr",
     "output_type": "stream",
     "text": [
      "── \u001b[1mAttaching packages\u001b[22m ─────────────────────────────────────────────────────────────────────────────── tidyverse 1.3.1 ──\n",
      "\n",
      "\u001b[32m✔\u001b[39m \u001b[34mggplot2\u001b[39m 3.3.6     \u001b[32m✔\u001b[39m \u001b[34mpurrr  \u001b[39m 0.3.4\n",
      "\u001b[32m✔\u001b[39m \u001b[34mtibble \u001b[39m 3.1.7     \u001b[32m✔\u001b[39m \u001b[34mdplyr  \u001b[39m 1.0.9\n",
      "\u001b[32m✔\u001b[39m \u001b[34mtidyr  \u001b[39m 1.2.0     \u001b[32m✔\u001b[39m \u001b[34mstringr\u001b[39m 1.4.0\n",
      "\u001b[32m✔\u001b[39m \u001b[34mreadr  \u001b[39m 2.1.2     \u001b[32m✔\u001b[39m \u001b[34mforcats\u001b[39m 0.5.1\n",
      "\n",
      "── \u001b[1mConflicts\u001b[22m ────────────────────────────────────────────────────────────────────────────────── tidyverse_conflicts() ──\n",
      "\u001b[31m✖\u001b[39m \u001b[34mdplyr\u001b[39m::\u001b[32mfilter()\u001b[39m masks \u001b[34mstats\u001b[39m::filter()\n",
      "\u001b[31m✖\u001b[39m \u001b[34mdplyr\u001b[39m::\u001b[32mlag()\u001b[39m    masks \u001b[34mstats\u001b[39m::lag()\n",
      "\n",
      "naivebayes 0.9.7 loaded\n",
      "\n"
     ]
    }
   ],
   "source": [
    "library('tidyverse')\n",
    "library('naivebayes')"
   ]
  },
  {
   "cell_type": "code",
   "execution_count": 4,
   "id": "fb804c53-0e13-42df-984a-01353d7b0cdd",
   "metadata": {},
   "outputs": [],
   "source": [
    "dataset <- read.csv(\"mushroomdata/agaricus-lepiota.csv\", header=FALSE, as.is=TRUE,\n",
    "                               strip.white=TRUE, colClasses=\"character\")"
   ]
  },
  {
   "cell_type": "code",
   "execution_count": 5,
   "id": "b32ec3b3-9c08-4b7b-a9f6-ed59672b640c",
   "metadata": {},
   "outputs": [],
   "source": [
    "colnames(dataset) <- c(\"class\", \"cap_shape\", \"cap_surface\", \n",
    "                        \"cap_color\", \"bruises\", \"odor\", \n",
    "                        \"gill_attachement\", \"gill_spacing\", \"gill_size\", \n",
    "                        \"gill_color\", \"stalk_shape\", \"stalk_root\", \n",
    "                        \"stalk_surface_above_ring\", \"stalk_surface_below_ring\", \"stalk_color_above_ring\", \n",
    "                        \"stalk_color_below_ring\", \"veil_type\", \"veil_color\", \n",
    "                        \"ring_number\", \"ring_type\", \"spore_print_color\", \n",
    "                        \"population\", \"habitat\")\n",
    "dataset <- dataset %>% map_df(function(.x) as.factor(.x))\n",
    "levels(dataset$class) <- c(\"edible\", \"poisonous\")\n",
    "levels(dataset$cap_shape) <- c(\"bell\", \"conical\", \"flat\", \"knobbed\", \"sunken\", \"convex\")\n",
    "levels(dataset$cap_color) <- c(\"buff\", \"cinnamon\", \"red\", \"gray\", \"brown\", \"pink\", \n",
    "                                \"green\", \"purple\", \"white\", \"yellow\")\n",
    "levels(dataset$cap_surface) <- c(\"fibrous\", \"grooves\", \"scaly\", \"smooth\")\n",
    "levels(dataset$bruises) <- c(\"no\", \"yes\")\n",
    "levels(dataset$odor) <- c(\"almond\", \"creosote\", \"foul\", \"anise\", \"musty\", \"none\", \"pungent\", \"spicy\", \"fishy\")\n",
    "levels(dataset$gill_attachement) <- c(\"attached\", \"free\")\n",
    "levels(dataset$gill_spacing) <- c(\"close\", \"crowded\")\n",
    "levels(dataset$gill_size) <- c(\"broad\", \"narrow\")\n",
    "levels(dataset$gill_color) <- c(\"buff\", \"red\", \"gray\", \"chocolate\", \"black\", \"brown\", \"orange\", \n",
    "                                 \"pink\", \"green\", \"purple\", \"white\", \"yellow\")\n",
    "levels(dataset$stalk_shape) <- c(\"enlarging\", \"tapering\")\n",
    "levels(dataset$stalk_root) <- c(\"missing\", \"bulbous\", \"club\", \"equal\", \"rooted\")\n",
    "levels(dataset$stalk_surface_above_ring) <- c(\"fibrous\", \"silky\", \"smooth\", \"scaly\")\n",
    "levels(dataset$stalk_surface_below_ring) <- c(\"fibrous\", \"silky\", \"smooth\", \"scaly\")\n",
    "levels(dataset$stalk_color_above_ring) <- c(\"buff\", \"cinnamon\", \"red\", \"gray\", \"brown\", \"pink\", \n",
    "                                \"green\", \"purple\", \"white\", \"yellow\")\n",
    "levels(dataset$stalk_color_below_ring) <- c(\"buff\", \"cinnamon\", \"red\", \"gray\", \"brown\", \"pink\", \n",
    "                                \"green\", \"purple\", \"white\", \"yellow\")\n",
    "levels(dataset$veil_type) <- \"partial\"\n",
    "levels(dataset$veil_color) <- c(\"brown\", \"orange\", \"white\", \"yellow\")\n",
    "levels(dataset$ring_number) <- c(\"none\", \"one\", \"two\")\n",
    "levels(dataset$ring_type) <- c(\"evanescent\", \"flaring\", \"large\", \"none\", \"pendant\")\n",
    "levels(dataset$spore_print_color) <- c(\"buff\", \"chocolate\", \"black\", \"brown\", \"orange\", \n",
    "                                        \"green\", \"purple\", \"white\", \"yellow\")\n",
    "levels(dataset$population) <- c(\"abundant\", \"clustered\", \"numerous\", \"scattered\", \"several\", \"solitary\")\n",
    "levels(dataset$habitat) <- c(\"wood\", \"grasses\", \"leaves\", \"meadows\", \"paths\", \"urban\", \"waste\")\n",
    "\n",
    "dataset <- dataset %>% select(- veil_type)"
   ]
  },
  {
   "cell_type": "code",
   "execution_count": 6,
   "id": "b8e4972a-162c-473b-9dad-847b48559651",
   "metadata": {},
   "outputs": [],
   "source": [
    "set.seed(1810)\n",
    "datasetsample <- caret::createDataPartition(y = dataset$class, times = 1, p = 0.1, list = FALSE)\n",
    "train_dataset <- dataset[datasetsample, ]\n",
    "test_dataset <- dataset[-datasetsample, ]"
   ]
  },
  {
   "cell_type": "markdown",
   "id": "f9d0489a-231c-4819-8618-c3cb0ea96555",
   "metadata": {},
   "source": [
    "Data ready, ensemble model:"
   ]
  },
  {
   "cell_type": "code",
   "execution_count": 20,
   "id": "1fd4759b-75e2-41cc-aa60-4f1efd09653b",
   "metadata": {},
   "outputs": [
    {
     "name": "stdout",
     "output_type": "stream",
     "text": [
      "[[1]]\n",
      "        edible    poisonous\n",
      "[1,] 0.9469639 5.303613e-02\n",
      "[2,] 1.0000000 1.511736e-08\n",
      "[3,] 1.0000000 1.251585e-10\n",
      "\n",
      "[[2]]\n",
      "        edible    poisonous\n",
      "[1,] 0.9469639 5.303613e-02\n",
      "[2,] 1.0000000 1.511736e-08\n",
      "[3,] 1.0000000 1.251585e-10\n",
      "\n",
      "[[3]]\n",
      "        edible    poisonous\n",
      "[1,] 0.9469639 5.303613e-02\n",
      "[2,] 1.0000000 1.511736e-08\n",
      "[3,] 1.0000000 1.251585e-10\n",
      "\n"
     ]
    },
    {
     "name": "stderr",
     "output_type": "stream",
     "text": [
      "Warning message in mean.default(predictions):\n",
      "\"argument nie jest wartością liczbową ani logiczną: zwracanie wartości NA\"\n"
     ]
    },
    {
     "data": {
      "text/html": [
       "<table class=\"dataframe\">\n",
       "<caption>A matrix: 3 × 2 of type dbl</caption>\n",
       "<thead>\n",
       "\t<tr><th scope=col>edible</th><th scope=col>poisonous</th></tr>\n",
       "</thead>\n",
       "<tbody>\n",
       "\t<tr><td>0.9469639</td><td>5.303613e-02</td></tr>\n",
       "\t<tr><td>1.0000000</td><td>1.511736e-08</td></tr>\n",
       "\t<tr><td>1.0000000</td><td>1.251585e-10</td></tr>\n",
       "</tbody>\n",
       "</table>\n"
      ],
      "text/latex": [
       "A matrix: 3 × 2 of type dbl\n",
       "\\begin{tabular}{ll}\n",
       " edible & poisonous\\\\\n",
       "\\hline\n",
       "\t 0.9469639 & 5.303613e-02\\\\\n",
       "\t 1.0000000 & 1.511736e-08\\\\\n",
       "\t 1.0000000 & 1.251585e-10\\\\\n",
       "\\end{tabular}\n"
      ],
      "text/markdown": [
       "\n",
       "A matrix: 3 × 2 of type dbl\n",
       "\n",
       "| edible | poisonous |\n",
       "|---|---|\n",
       "| 0.9469639 | 5.303613e-02 |\n",
       "| 1.0000000 | 1.511736e-08 |\n",
       "| 1.0000000 | 1.251585e-10 |\n",
       "\n"
      ],
      "text/plain": [
       "     edible    poisonous   \n",
       "[1,] 0.9469639 5.303613e-02\n",
       "[2,] 1.0000000 1.511736e-08\n",
       "[3,] 1.0000000 1.251585e-10"
      ]
     },
     "metadata": {},
     "output_type": "display_data"
    }
   ],
   "source": [
    "#function returning a list of trained models:\n",
    "ensemble <- function(model, dataset, mcount, pattr, ...) {\n",
    "  results <- list()\n",
    "  for (i in 1:mcount) {\n",
    "      \n",
    "    #boostrapping: TODO\n",
    "      \n",
    "    #attribute randomization: TODO\n",
    "      \n",
    "    new_model <- model(class ~ ., data=dataset, ...)\n",
    "    results[[i]] <- new_model\n",
    "  }\n",
    "  return(results)\n",
    "}\n",
    "\n",
    "model_ens <- ensemble(model=naive_bayes, dataset=train_dataset, mcount=3, pattr=0.2, usekernel=T, laplace=1)\n",
    "\n",
    "\n",
    "\n",
    "# a function predicting the class for given ensemble model and data\n",
    "predict_fun <- function (ensemble_model, dataset, type) {\n",
    "    predictions <- list()\n",
    "    for (i in 1:length(ensemble_model)) {\n",
    "        predictions[[i]] <- predict(ensemble_model[[i]], dataset, type=\"prob\")\n",
    "    }\n",
    "    print(predictions)\n",
    "    result <- mean(predictions)\n",
    "}\n",
    "\n",
    "predict_fun(model_ens, test_dataset[1:3, -1], \"abc\")\n",
    "\n",
    "predict(model_ens[[1]], test_dataset[1:3,-1], type=\"prob\") #like this, then (weighted?) average over all models, return the list or just the class"
   ]
  },
  {
   "cell_type": "code",
   "execution_count": null,
   "id": "9801e1fc-698d-48f5-bf58-cf9d7af5265e",
   "metadata": {},
   "outputs": [],
   "source": []
  }
 ],
 "metadata": {
  "kernelspec": {
   "display_name": "R",
   "language": "R",
   "name": "ir"
  },
  "language_info": {
   "codemirror_mode": "r",
   "file_extension": ".r",
   "mimetype": "text/x-r-source",
   "name": "R",
   "pygments_lexer": "r",
   "version": "4.2.0"
  }
 },
 "nbformat": 4,
 "nbformat_minor": 5
}
