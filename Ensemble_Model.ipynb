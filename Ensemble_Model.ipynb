{
 "cells": [
  {
   "cell_type": "code",
   "execution_count": 75,
   "id": "e4e05d80-4aac-4c93-94c7-c62965e9c794",
   "metadata": {},
   "outputs": [],
   "source": [
    "library('tidyverse')\n",
    "library('e1071')"
   ]
  },
  {
   "cell_type": "code",
   "execution_count": 76,
   "id": "fb804c53-0e13-42df-984a-01353d7b0cdd",
   "metadata": {},
   "outputs": [],
   "source": [
    "dataset <- read.csv(\"mushroomdata/agaricus-lepiota.csv\", header=FALSE, as.is=TRUE,\n",
    "                               strip.white=TRUE, colClasses=\"character\")"
   ]
  },
  {
   "cell_type": "code",
   "execution_count": 77,
   "id": "b32ec3b3-9c08-4b7b-a9f6-ed59672b640c",
   "metadata": {},
   "outputs": [],
   "source": [
    "colnames(dataset) <- c(\"class\", \"cap_shape\", \"cap_surface\", \n",
    "                        \"cap_color\", \"bruises\", \"odor\", \n",
    "                        \"gill_attachement\", \"gill_spacing\", \"gill_size\", \n",
    "                        \"gill_color\", \"stalk_shape\", \"stalk_root\", \n",
    "                        \"stalk_surface_above_ring\", \"stalk_surface_below_ring\", \"stalk_color_above_ring\", \n",
    "                        \"stalk_color_below_ring\", \"veil_type\", \"veil_color\", \n",
    "                        \"ring_number\", \"ring_type\", \"spore_print_color\", \n",
    "                        \"population\", \"habitat\")\n",
    "dataset <- dataset %>% map_df(function(.x) as.factor(.x))\n",
    "levels(dataset$class) <- c(\"edible\", \"poisonous\")\n",
    "levels(dataset$cap_shape) <- c(\"bell\", \"conical\", \"flat\", \"knobbed\", \"sunken\", \"convex\")\n",
    "levels(dataset$cap_color) <- c(\"buff\", \"cinnamon\", \"red\", \"gray\", \"brown\", \"pink\", \n",
    "                                \"green\", \"purple\", \"white\", \"yellow\")\n",
    "levels(dataset$cap_surface) <- c(\"fibrous\", \"grooves\", \"scaly\", \"smooth\")\n",
    "levels(dataset$bruises) <- c(\"no\", \"yes\")\n",
    "levels(dataset$odor) <- c(\"almond\", \"creosote\", \"foul\", \"anise\", \"musty\", \"none\", \"pungent\", \"spicy\", \"fishy\")\n",
    "levels(dataset$gill_attachement) <- c(\"attached\", \"free\")\n",
    "levels(dataset$gill_spacing) <- c(\"close\", \"crowded\")\n",
    "levels(dataset$gill_size) <- c(\"broad\", \"narrow\")\n",
    "levels(dataset$gill_color) <- c(\"buff\", \"red\", \"gray\", \"chocolate\", \"black\", \"brown\", \"orange\", \n",
    "                                 \"pink\", \"green\", \"purple\", \"white\", \"yellow\")\n",
    "levels(dataset$stalk_shape) <- c(\"enlarging\", \"tapering\")\n",
    "levels(dataset$stalk_root) <- c(\"missing\", \"bulbous\", \"club\", \"equal\", \"rooted\")\n",
    "levels(dataset$stalk_surface_above_ring) <- c(\"fibrous\", \"silky\", \"smooth\", \"scaly\")\n",
    "levels(dataset$stalk_surface_below_ring) <- c(\"fibrous\", \"silky\", \"smooth\", \"scaly\")\n",
    "levels(dataset$stalk_color_above_ring) <- c(\"buff\", \"cinnamon\", \"red\", \"gray\", \"brown\", \"pink\", \n",
    "                                \"green\", \"purple\", \"white\", \"yellow\")\n",
    "levels(dataset$stalk_color_below_ring) <- c(\"buff\", \"cinnamon\", \"red\", \"gray\", \"brown\", \"pink\", \n",
    "                                \"green\", \"purple\", \"white\", \"yellow\")\n",
    "levels(dataset$veil_type) <- \"partial\"\n",
    "levels(dataset$veil_color) <- c(\"brown\", \"orange\", \"white\", \"yellow\")\n",
    "levels(dataset$ring_number) <- c(\"none\", \"one\", \"two\")\n",
    "levels(dataset$ring_type) <- c(\"evanescent\", \"flaring\", \"large\", \"none\", \"pendant\")\n",
    "levels(dataset$spore_print_color) <- c(\"buff\", \"chocolate\", \"black\", \"brown\", \"orange\", \n",
    "                                        \"green\", \"purple\", \"white\", \"yellow\")\n",
    "levels(dataset$population) <- c(\"abundant\", \"clustered\", \"numerous\", \"scattered\", \"several\", \"solitary\")\n",
    "levels(dataset$habitat) <- c(\"wood\", \"grasses\", \"leaves\", \"meadows\", \"paths\", \"urban\", \"waste\")\n",
    "\n",
    "dataset <- dataset %>% select(- veil_type)"
   ]
  },
  {
   "cell_type": "code",
   "execution_count": 78,
   "id": "b8e4972a-162c-473b-9dad-847b48559651",
   "metadata": {},
   "outputs": [],
   "source": [
    "set.seed(1810)\n",
    "datasetsample <- caret::createDataPartition(y = dataset$class, times = 1, p = 0.1, list = FALSE)\n",
    "train_dataset <- dataset[datasetsample, ]\n",
    "test_dataset <- dataset[-datasetsample, ]"
   ]
  },
  {
   "cell_type": "markdown",
   "id": "f9d0489a-231c-4819-8618-c3cb0ea96555",
   "metadata": {},
   "source": [
    "Data ready, ensemble model:"
   ]
  },
  {
   "cell_type": "code",
   "execution_count": 90,
   "id": "1fd4759b-75e2-41cc-aa60-4f1efd09653b",
   "metadata": {},
   "outputs": [],
   "source": [
    "#function returning a list of trained models:\n",
    "ensemble <- function(algorithm, formula, dataset, mcount=10, pattr=0.8, ...) {\n",
    "  results <- list()\n",
    "  for (i in 1:mcount) {\n",
    "    attr_count <- max(1, floor(pattr * (ncol(dataset)-1))) # Of all columns, attr_count will be sampled.\n",
    "    \n",
    "    bootstrapped <- sample_n(dataset, nrow(dataset), replace=T)\n",
    "        \n",
    "    attr_randomized <- sample(bootstrapped[,-1], attr_count)\n",
    "              \n",
    "    attr_randomized$class <- bootstrapped$class\n",
    "      \n",
    "    new_model <- algorithm(formula, data=attr_randomized, ...)\n",
    "    results[[i]] <- new_model\n",
    "  }\n",
    "  return(results)\n",
    "}"
   ]
  },
  {
   "cell_type": "code",
   "execution_count": 91,
   "id": "97300ffe-e3cf-470f-8840-8b2bd5df4313",
   "metadata": {},
   "outputs": [],
   "source": [
    "model_ens <- ensemble(algorithm=naiveBayes, formula=class~., dataset=train_dataset, mcount=100, pattr=0.5, usekernel=T, laplace=1)"
   ]
  },
  {
   "cell_type": "code",
   "execution_count": 101,
   "id": "5c85ffba-77af-4cd3-b841-0393de1071a8",
   "metadata": {},
   "outputs": [],
   "source": [
    "# a function predicting the class probabilities for a given ensemble model and data\n",
    "predict_fun <- function (ensemble_model, dataset, type, single_predict=predict) {\n",
    "    modelClasses <- levels(test_dataset$class)\n",
    "    predictions <- matrix(0, nrow=nrow(dataset), ncol=length(modelClasses))\n",
    "    colnames(predictions) <- modelClasses\n",
    "    \n",
    "    modelCount <- length(ensemble_model)\n",
    "    \n",
    "    for (i in 1:length(ensemble_model)) {\n",
    "        newPrediction <- single_predict(ensemble_model[[i]], dataset, type=\"class\")\n",
    "        \n",
    "        for (j in 1:length(newPrediction)) {\n",
    "            predictions[j, newPrediction[j]] = predictions[j, newPrediction[j]] + 1/modelCount\n",
    "        }\n",
    "    }\n",
    "\n",
    "    return(predictions)\n",
    "}"
   ]
  },
  {
   "cell_type": "markdown",
   "id": "b489600e-4458-4684-8b4e-aa1ce2ae59c9",
   "metadata": {},
   "source": [
    "# Wyniki naszego ensemble modelu dla Bayesa:"
   ]
  },
  {
   "cell_type": "code",
   "execution_count": 102,
   "id": "28ab1296-706b-4116-8ebe-821dc40cdb98",
   "metadata": {},
   "outputs": [
    {
     "data": {
      "text/html": [
       "<table class=\"dataframe\">\n",
       "<caption>A data.frame: 10 × 3</caption>\n",
       "<thead>\n",
       "\t<tr><th scope=col>probability edible</th><th scope=col>probability edible</th><th scope=col>actual class</th></tr>\n",
       "\t<tr><th scope=col>&lt;dbl&gt;</th><th scope=col>&lt;dbl&gt;</th><th scope=col>&lt;fct&gt;</th></tr>\n",
       "</thead>\n",
       "<tbody>\n",
       "\t<tr><td>0.63</td><td>0.37</td><td>poisonous</td></tr>\n",
       "\t<tr><td>1.00</td><td>0.00</td><td>edible   </td></tr>\n",
       "\t<tr><td>1.00</td><td>0.00</td><td>edible   </td></tr>\n",
       "\t<tr><td>0.64</td><td>0.36</td><td>poisonous</td></tr>\n",
       "\t<tr><td>1.00</td><td>0.00</td><td>edible   </td></tr>\n",
       "\t<tr><td>1.00</td><td>0.00</td><td>edible   </td></tr>\n",
       "\t<tr><td>1.00</td><td>0.00</td><td>edible   </td></tr>\n",
       "\t<tr><td>1.00</td><td>0.00</td><td>edible   </td></tr>\n",
       "\t<tr><td>0.99</td><td>0.01</td><td>edible   </td></tr>\n",
       "\t<tr><td>1.00</td><td>0.00</td><td>edible   </td></tr>\n",
       "</tbody>\n",
       "</table>\n"
      ],
      "text/latex": [
       "A data.frame: 10 × 3\n",
       "\\begin{tabular}{lll}\n",
       " probability edible & probability edible & actual class\\\\\n",
       " <dbl> & <dbl> & <fct>\\\\\n",
       "\\hline\n",
       "\t 0.63 & 0.37 & poisonous\\\\\n",
       "\t 1.00 & 0.00 & edible   \\\\\n",
       "\t 1.00 & 0.00 & edible   \\\\\n",
       "\t 0.64 & 0.36 & poisonous\\\\\n",
       "\t 1.00 & 0.00 & edible   \\\\\n",
       "\t 1.00 & 0.00 & edible   \\\\\n",
       "\t 1.00 & 0.00 & edible   \\\\\n",
       "\t 1.00 & 0.00 & edible   \\\\\n",
       "\t 0.99 & 0.01 & edible   \\\\\n",
       "\t 1.00 & 0.00 & edible   \\\\\n",
       "\\end{tabular}\n"
      ],
      "text/markdown": [
       "\n",
       "A data.frame: 10 × 3\n",
       "\n",
       "| probability edible &lt;dbl&gt; | probability edible &lt;dbl&gt; | actual class &lt;fct&gt; |\n",
       "|---|---|---|\n",
       "| 0.63 | 0.37 | poisonous |\n",
       "| 1.00 | 0.00 | edible    |\n",
       "| 1.00 | 0.00 | edible    |\n",
       "| 0.64 | 0.36 | poisonous |\n",
       "| 1.00 | 0.00 | edible    |\n",
       "| 1.00 | 0.00 | edible    |\n",
       "| 1.00 | 0.00 | edible    |\n",
       "| 1.00 | 0.00 | edible    |\n",
       "| 0.99 | 0.01 | edible    |\n",
       "| 1.00 | 0.00 | edible    |\n",
       "\n"
      ],
      "text/plain": [
       "   probability edible probability edible actual class\n",
       "1  0.63               0.37               poisonous   \n",
       "2  1.00               0.00               edible      \n",
       "3  1.00               0.00               edible      \n",
       "4  0.64               0.36               poisonous   \n",
       "5  1.00               0.00               edible      \n",
       "6  1.00               0.00               edible      \n",
       "7  1.00               0.00               edible      \n",
       "8  1.00               0.00               edible      \n",
       "9  0.99               0.01               edible      \n",
       "10 1.00               0.00               edible      "
      ]
     },
     "metadata": {},
     "output_type": "display_data"
    }
   ],
   "source": [
    "pred <- predict_fun(model_ens, test_dataset[1:10,])\n",
    "result <- cbind(pred, as.data.frame(test_dataset[1:10,]$class))\n",
    "colnames(result) <- c(\"probability edible\", \"probability edible\", \"actual class\")\n",
    "result"
   ]
  },
  {
   "cell_type": "markdown",
   "id": "3c4514f8-12d5-478f-ac8c-0c82f96afcae",
   "metadata": {},
   "source": [
    "# Wyniki zwykłego Bayesa:"
   ]
  },
  {
   "cell_type": "code",
   "execution_count": 97,
   "id": "c92866ad-3f12-4ec2-b270-1d157f1fa330",
   "metadata": {},
   "outputs": [
    {
     "data": {
      "text/html": [
       "<table class=\"dataframe\">\n",
       "<caption>A data.frame: 10 × 3</caption>\n",
       "<thead>\n",
       "\t<tr><th scope=col> </th><th scope=col> </th><th scope=col>actual class</th></tr>\n",
       "\t<tr><th scope=col>&lt;dbl&gt;</th><th scope=col>&lt;dbl&gt;</th><th scope=col>&lt;fct&gt;</th></tr>\n",
       "</thead>\n",
       "<tbody>\n",
       "\t<tr><td>0.9469639</td><td>5.303613e-02</td><td>poisonous</td></tr>\n",
       "\t<tr><td>1.0000000</td><td>1.511736e-08</td><td>edible   </td></tr>\n",
       "\t<tr><td>1.0000000</td><td>1.251585e-10</td><td>edible   </td></tr>\n",
       "\t<tr><td>0.9596226</td><td>4.037743e-02</td><td>poisonous</td></tr>\n",
       "\t<tr><td>0.9999999</td><td>1.251882e-07</td><td>edible   </td></tr>\n",
       "\t<tr><td>1.0000000</td><td>1.352209e-09</td><td>edible   </td></tr>\n",
       "\t<tr><td>1.0000000</td><td>2.297447e-09</td><td>edible   </td></tr>\n",
       "\t<tr><td>0.9999999</td><td>5.631447e-08</td><td>edible   </td></tr>\n",
       "\t<tr><td>0.9999998</td><td>1.901890e-07</td><td>edible   </td></tr>\n",
       "\t<tr><td>1.0000000</td><td>3.890968e-08</td><td>edible   </td></tr>\n",
       "</tbody>\n",
       "</table>\n"
      ],
      "text/latex": [
       "A data.frame: 10 × 3\n",
       "\\begin{tabular}{lll}\n",
       "   &   & actual class\\\\\n",
       " <dbl> & <dbl> & <fct>\\\\\n",
       "\\hline\n",
       "\t 0.9469639 & 5.303613e-02 & poisonous\\\\\n",
       "\t 1.0000000 & 1.511736e-08 & edible   \\\\\n",
       "\t 1.0000000 & 1.251585e-10 & edible   \\\\\n",
       "\t 0.9596226 & 4.037743e-02 & poisonous\\\\\n",
       "\t 0.9999999 & 1.251882e-07 & edible   \\\\\n",
       "\t 1.0000000 & 1.352209e-09 & edible   \\\\\n",
       "\t 1.0000000 & 2.297447e-09 & edible   \\\\\n",
       "\t 0.9999999 & 5.631447e-08 & edible   \\\\\n",
       "\t 0.9999998 & 1.901890e-07 & edible   \\\\\n",
       "\t 1.0000000 & 3.890968e-08 & edible   \\\\\n",
       "\\end{tabular}\n"
      ],
      "text/markdown": [
       "\n",
       "A data.frame: 10 × 3\n",
       "\n",
       "| <!----> &lt;dbl&gt; | <!----> &lt;dbl&gt; | actual class &lt;fct&gt; |\n",
       "|---|---|---|\n",
       "| 0.9469639 | 5.303613e-02 | poisonous |\n",
       "| 1.0000000 | 1.511736e-08 | edible    |\n",
       "| 1.0000000 | 1.251585e-10 | edible    |\n",
       "| 0.9596226 | 4.037743e-02 | poisonous |\n",
       "| 0.9999999 | 1.251882e-07 | edible    |\n",
       "| 1.0000000 | 1.352209e-09 | edible    |\n",
       "| 1.0000000 | 2.297447e-09 | edible    |\n",
       "| 0.9999999 | 5.631447e-08 | edible    |\n",
       "| 0.9999998 | 1.901890e-07 | edible    |\n",
       "| 1.0000000 | 3.890968e-08 | edible    |\n",
       "\n"
      ],
      "text/plain": [
       "                          actual class\n",
       "1  0.9469639 5.303613e-02 poisonous   \n",
       "2  1.0000000 1.511736e-08 edible      \n",
       "3  1.0000000 1.251585e-10 edible      \n",
       "4  0.9596226 4.037743e-02 poisonous   \n",
       "5  0.9999999 1.251882e-07 edible      \n",
       "6  1.0000000 1.352209e-09 edible      \n",
       "7  1.0000000 2.297447e-09 edible      \n",
       "8  0.9999999 5.631447e-08 edible      \n",
       "9  0.9999998 1.901890e-07 edible      \n",
       "10 1.0000000 3.890968e-08 edible      "
      ]
     },
     "metadata": {},
     "output_type": "display_data"
    }
   ],
   "source": [
    "new_model <- naiveBayes(class~., data=train_dataset, usekernel=T, laplace=1)\n",
    "\n",
    "pred <- predict(new_model, test_dataset[1:10,], type=\"raw\")\n",
    "result <- cbind(pred, as.data.frame(test_dataset[1:10,]$class))\n",
    "colnames(result) <- c(\"probability edible\", \"probability edible\", \"actual class\")\n",
    "result"
   ]
  },
  {
   "cell_type": "code",
   "execution_count": null,
   "id": "255aa1d8-2381-4868-b565-e05f0dc8678c",
   "metadata": {},
   "outputs": [],
   "source": []
  }
 ],
 "metadata": {
  "kernelspec": {
   "display_name": "R",
   "language": "R",
   "name": "ir"
  },
  "language_info": {
   "codemirror_mode": "r",
   "file_extension": ".r",
   "mimetype": "text/x-r-source",
   "name": "R",
   "pygments_lexer": "r",
   "version": "4.2.0"
  }
 },
 "nbformat": 4,
 "nbformat_minor": 5
}
