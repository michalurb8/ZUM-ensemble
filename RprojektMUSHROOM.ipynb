{
 "cells": [
  {
   "cell_type": "markdown",
   "id": "84f3f00a",
   "metadata": {},
   "source": [
    "Załadowanie biblioteki"
   ]
  },
  {
   "cell_type": "code",
   "execution_count": 64,
   "id": "e82193f7",
   "metadata": {},
   "outputs": [],
   "source": [
    "library(tidyverse)"
   ]
  },
  {
   "cell_type": "markdown",
   "id": "cd3a1755",
   "metadata": {},
   "source": [
    "Załadowanie zbioru danych"
   ]
  },
  {
   "cell_type": "code",
   "execution_count": 67,
   "id": "a1140981",
   "metadata": {},
   "outputs": [],
   "source": [
    "dataset <- read.csv(\"mushroomdata/agaricus-lepiota.csv\", header=FALSE, as.is=TRUE,\n",
    "                               strip.white=TRUE, colClasses=\"character\")"
   ]
  },
  {
   "cell_type": "code",
   "execution_count": 68,
   "id": "8cc92a6b",
   "metadata": {},
   "outputs": [
    {
     "data": {
      "text/html": [
       "<style>\n",
       ".list-inline {list-style: none; margin:0; padding: 0}\n",
       ".list-inline>li {display: inline-block}\n",
       ".list-inline>li:not(:last-child)::after {content: \"\\00b7\"; padding: 0 .5ex}\n",
       "</style>\n",
       "<ol class=list-inline><li>'e'</li><li>'p'</li></ol>\n"
      ],
      "text/latex": [
       "\\begin{enumerate*}\n",
       "\\item 'e'\n",
       "\\item 'p'\n",
       "\\end{enumerate*}\n"
      ],
      "text/markdown": [
       "1. 'e'\n",
       "2. 'p'\n",
       "\n",
       "\n"
      ],
      "text/plain": [
       "[1] \"e\" \"p\""
      ]
     },
     "metadata": {},
     "output_type": "display_data"
    }
   ],
   "source": [
    "colnames(dataset) <- c(\"class\", \"cap_shape\", \"cap_surface\", \n",
    "                        \"cap_color\", \"bruises\", \"odor\", \n",
    "                        \"gill_attachement\", \"gill_spacing\", \"gill_size\", \n",
    "                        \"gill_color\", \"stalk_shape\", \"stalk_root\", \n",
    "                        \"stalk_surface_above_ring\", \"stalk_surface_below_ring\", \"stalk_color_above_ring\", \n",
    "                        \"stalk_color_below_ring\", \"veil_type\", \"veil_color\", \n",
    "                        \"ring_number\", \"ring_type\", \"spore_print_color\", \n",
    "                        \"population\", \"habitat\")\n",
    "dataset <- dataset %>% map_df(function(.x) as.factor(.x))\n",
    "levels(dataset$class) <- c(\"edible\", \"poisonous\")\n",
    "levels(dataset$cap_shape) <- c(\"bell\", \"conical\", \"flat\", \"knobbed\", \"sunken\", \"convex\")\n",
    "levels(dataset$cap_color) <- c(\"buff\", \"cinnamon\", \"red\", \"gray\", \"brown\", \"pink\", \n",
    "                                \"green\", \"purple\", \"white\", \"yellow\")\n",
    "levels(dataset$cap_surface) <- c(\"fibrous\", \"grooves\", \"scaly\", \"smooth\")\n",
    "levels(dataset$bruises) <- c(\"no\", \"yes\")\n",
    "levels(dataset$odor) <- c(\"almond\", \"creosote\", \"foul\", \"anise\", \"musty\", \"none\", \"pungent\", \"spicy\", \"fishy\")\n",
    "levels(dataset$gill_attachement) <- c(\"attached\", \"free\")\n",
    "levels(dataset$gill_spacing) <- c(\"close\", \"crowded\")\n",
    "levels(dataset$gill_size) <- c(\"broad\", \"narrow\")\n",
    "levels(dataset$gill_color) <- c(\"buff\", \"red\", \"gray\", \"chocolate\", \"black\", \"brown\", \"orange\", \n",
    "                                 \"pink\", \"green\", \"purple\", \"white\", \"yellow\")\n",
    "levels(dataset$stalk_shape) <- c(\"enlarging\", \"tapering\")\n",
    "levels(dataset$stalk_root) <- c(\"missing\", \"bulbous\", \"club\", \"equal\", \"rooted\")\n",
    "levels(dataset$stalk_surface_above_ring) <- c(\"fibrous\", \"silky\", \"smooth\", \"scaly\")\n",
    "levels(dataset$stalk_surface_below_ring) <- c(\"fibrous\", \"silky\", \"smooth\", \"scaly\")\n",
    "levels(dataset$stalk_color_above_ring) <- c(\"buff\", \"cinnamon\", \"red\", \"gray\", \"brown\", \"pink\", \n",
    "                                \"green\", \"purple\", \"white\", \"yellow\")\n",
    "levels(dataset$stalk_color_below_ring) <- c(\"buff\", \"cinnamon\", \"red\", \"gray\", \"brown\", \"pink\", \n",
    "                                \"green\", \"purple\", \"white\", \"yellow\")\n",
    "levels(dataset$veil_type) <- \"partial\"\n",
    "levels(dataset$veil_color) <- c(\"brown\", \"orange\", \"white\", \"yellow\")\n",
    "levels(dataset$ring_number) <- c(\"none\", \"one\", \"two\")\n",
    "levels(dataset$ring_type) <- c(\"evanescent\", \"flaring\", \"large\", \"none\", \"pendant\")\n",
    "levels(dataset$spore_print_color) <- c(\"buff\", \"chocolate\", \"black\", \"brown\", \"orange\", \n",
    "                                        \"green\", \"purple\", \"white\", \"yellow\")\n",
    "levels(dataset$population) <- c(\"abundant\", \"clustered\", \"numerous\", \"scattered\", \"several\", \"solitary\")\n",
    "levels(dataset$habitat) <- c(\"wood\", \"grasses\", \"leaves\", \"meadows\", \"paths\", \"urban\", \"waste\")\n",
    "\n",
    "dataset <- dataset %>% select(- veil_type)"
   ]
  },
  {
   "cell_type": "code",
   "execution_count": 54,
   "id": "5d7174df",
   "metadata": {},
   "outputs": [],
   "source": [
    "set.seed(1810)\n",
    "datasetsample <- caret::createDataPartition(y = dataset$class, times = 1, p = 0.1, list = FALSE)\n",
    "train_dataset <- dataset[datasetsample, ]\n",
    "test_dataset <- dataset[-datasetsample, ]"
   ]
  },
  {
   "cell_type": "code",
   "execution_count": 55,
   "id": "233d0204",
   "metadata": {},
   "outputs": [
    {
     "data": {
      "text/plain": [
       "n= 813 \n",
       "\n",
       "node), split, n, loss, yval, (yprob)\n",
       "      * denotes terminal node\n",
       "\n",
       "1) root 813 392 edible (0.51783518 0.48216482)  \n",
       "  2) odor=almond,anise,none 427   6 edible (0.98594848 0.01405152) *\n",
       "  3) odor=creosote,foul,musty,pungent,spicy,fishy 386   0 poisonous (0.00000000 1.00000000) *"
      ]
     },
     "metadata": {},
     "output_type": "display_data"
    }
   ],
   "source": [
    "library(rpart)\n",
    "set.seed(1810)\n",
    "model_tree <- rpart(class ~ ., data = train_dataset, method = \"class\")\n",
    "model_tree"
   ]
  },
  {
   "cell_type": "code",
   "execution_count": 26,
   "id": "b0d2a113",
   "metadata": {},
   "outputs": [
    {
     "data": {
      "text/plain": [
       "Confusion Matrix and Statistics\n",
       "\n",
       "           Reference\n",
       "Prediction  edible poisonous\n",
       "  edible       421         6\n",
       "  poisonous      0       386\n",
       "                                         \n",
       "               Accuracy : 0.9926         \n",
       "                 95% CI : (0.984, 0.9973)\n",
       "    No Information Rate : 0.5178         \n",
       "    P-Value [Acc > NIR] : < 2e-16        \n",
       "                                         \n",
       "                  Kappa : 0.9852         \n",
       "                                         \n",
       " Mcnemar's Test P-Value : 0.04123        \n",
       "                                         \n",
       "            Sensitivity : 1.0000         \n",
       "            Specificity : 0.9847         \n",
       "         Pos Pred Value : 0.9859         \n",
       "         Neg Pred Value : 1.0000         \n",
       "             Prevalence : 0.5178         \n",
       "         Detection Rate : 0.5178         \n",
       "   Detection Prevalence : 0.5252         \n",
       "      Balanced Accuracy : 0.9923         \n",
       "                                         \n",
       "       'Positive' Class : edible         \n",
       "                                         "
      ]
     },
     "metadata": {},
     "output_type": "display_data"
    }
   ],
   "source": [
    "caret::confusionMatrix(data=predict(model_tree, type = \"class\"), \n",
    "                       reference = train_dataset$class, \n",
    "                       positive=\"edible\")"
   ]
  },
  {
   "cell_type": "code",
   "execution_count": 27,
   "id": "2e890256",
   "metadata": {},
   "outputs": [
    {
     "data": {
      "text/plain": [
       "Confusion Matrix and Statistics\n",
       "\n",
       "           Reference\n",
       "Prediction  edible poisonous\n",
       "  edible      3787       114\n",
       "  poisonous      0      3410\n",
       "                                          \n",
       "               Accuracy : 0.9844          \n",
       "                 95% CI : (0.9813, 0.9871)\n",
       "    No Information Rate : 0.518           \n",
       "    P-Value [Acc > NIR] : < 2.2e-16       \n",
       "                                          \n",
       "                  Kappa : 0.9687          \n",
       "                                          \n",
       " Mcnemar's Test P-Value : < 2.2e-16       \n",
       "                                          \n",
       "            Sensitivity : 1.0000          \n",
       "            Specificity : 0.9677          \n",
       "         Pos Pred Value : 0.9708          \n",
       "         Neg Pred Value : 1.0000          \n",
       "             Prevalence : 0.5180          \n",
       "         Detection Rate : 0.5180          \n",
       "   Detection Prevalence : 0.5336          \n",
       "      Balanced Accuracy : 0.9838          \n",
       "                                          \n",
       "       'Positive' Class : edible          \n",
       "                                          "
      ]
     },
     "metadata": {},
     "output_type": "display_data"
    }
   ],
   "source": [
    "caret::confusionMatrix(data = predict(model_tree, newdata = test_dataset, type = \"class\"), \n",
    "                       reference = test_dataset$class, \n",
    "                       positive = \"edible\")"
   ]
  },
  {
   "cell_type": "code",
   "execution_count": 33,
   "id": "9148789b",
   "metadata": {},
   "outputs": [],
   "source": [
    "library(randomForest)\n",
    "model_rf <- randomForest(class ~ ., ntree = 100, data = train_dataset)"
   ]
  },
  {
   "cell_type": "code",
   "execution_count": 34,
   "id": "8d4a2b95",
   "metadata": {},
   "outputs": [
    {
     "name": "stdout",
     "output_type": "stream",
     "text": [
      "\n",
      "Call:\n",
      " randomForest(formula = class ~ ., data = train_dataset, ntree = 100) \n",
      "               Type of random forest: classification\n",
      "                     Number of trees: 100\n",
      "No. of variables tried at each split: 4\n",
      "\n",
      "        OOB estimate of  error rate: 0.12%\n",
      "Confusion matrix:\n",
      "          edible poisonous class.error\n",
      "edible       421         0  0.00000000\n",
      "poisonous      1       391  0.00255102\n"
     ]
    }
   ],
   "source": [
    "print(model_rf)"
   ]
  },
  {
   "cell_type": "code",
   "execution_count": 35,
   "id": "22a06685",
   "metadata": {},
   "outputs": [
    {
     "data": {
      "text/plain": [
       "Confusion Matrix and Statistics\n",
       "\n",
       "           Reference\n",
       "Prediction  edible poisonous\n",
       "  edible       421         1\n",
       "  poisonous      0       391\n",
       "                                     \n",
       "               Accuracy : 0.9988     \n",
       "                 95% CI : (0.9932, 1)\n",
       "    No Information Rate : 0.5178     \n",
       "    P-Value [Acc > NIR] : <2e-16     \n",
       "                                     \n",
       "                  Kappa : 0.9975     \n",
       "                                     \n",
       " Mcnemar's Test P-Value : 1          \n",
       "                                     \n",
       "            Sensitivity : 1.0000     \n",
       "            Specificity : 0.9974     \n",
       "         Pos Pred Value : 0.9976     \n",
       "         Neg Pred Value : 1.0000     \n",
       "             Prevalence : 0.5178     \n",
       "         Detection Rate : 0.5178     \n",
       "   Detection Prevalence : 0.5191     \n",
       "      Balanced Accuracy : 0.9987     \n",
       "                                     \n",
       "       'Positive' Class : edible     \n",
       "                                     "
      ]
     },
     "metadata": {},
     "output_type": "display_data"
    }
   ],
   "source": [
    "caret::confusionMatrix(data = model_rf$predicted, reference = train_dataset$class , \n",
    "                       positive = \"edible\")"
   ]
  },
  {
   "cell_type": "code",
   "execution_count": 38,
   "id": "d378df3d",
   "metadata": {},
   "outputs": [
    {
     "data": {
      "text/plain": [
       "           \n",
       "test_rf     edible poisonous\n",
       "  edible      3787        19\n",
       "  poisonous      0      3505"
      ]
     },
     "metadata": {},
     "output_type": "display_data"
    }
   ],
   "source": [
    "test_rf <- predict(model_rf, newdata = test_dataset)\n",
    "table(test_rf, test_dataset$class)"
   ]
  },
  {
   "cell_type": "code",
   "execution_count": 43,
   "id": "8f4bd061",
   "metadata": {},
   "outputs": [],
   "source": [
    "library(e1071)\n",
    "model_svm <- svm(class ~. , data=train_dataset, cost = 1000, gamma = 0.01)"
   ]
  },
  {
   "cell_type": "code",
   "execution_count": 44,
   "id": "d7bef466",
   "metadata": {},
   "outputs": [
    {
     "data": {
      "text/plain": [
       "           \n",
       "test_svm    edible poisonous\n",
       "  edible      3787        26\n",
       "  poisonous      0      3498"
      ]
     },
     "metadata": {},
     "output_type": "display_data"
    }
   ],
   "source": [
    "test_svm <- predict(model_svm, newdata = test_dataset)\n",
    "\n",
    "table(test_svm, test_dataset$class)"
   ]
  },
  {
   "cell_type": "code",
   "execution_count": 57,
   "id": "5e24af60",
   "metadata": {},
   "outputs": [
    {
     "name": "stderr",
     "output_type": "stream",
     "text": [
      "Warning message:\n",
      "\"pakiet 'naivebayes' jest w użyciu i nie zostanie zainstalowany\"\n"
     ]
    }
   ],
   "source": [
    "install.packages(\"naivebayes\")"
   ]
  },
  {
   "cell_type": "code",
   "execution_count": 58,
   "id": "39e8335e",
   "metadata": {},
   "outputs": [],
   "source": [
    "library(naivebayes)\n",
    "model_bayes <- naive_bayes(class ~ ., data = train_dataset, usekernel = T, laplace=1) "
   ]
  },
  {
   "cell_type": "code",
   "execution_count": 47,
   "id": "ab6c0bc1",
   "metadata": {
    "scrolled": true
   },
   "outputs": [
    {
     "ename": "ERROR",
     "evalue": "Error in predict.naive_bayes(model_bayes, train_mushroom): nie znaleziono obiektu 'train_mushroom'\n",
     "output_type": "error",
     "traceback": [
      "Error in predict.naive_bayes(model_bayes, train_mushroom): nie znaleziono obiektu 'train_mushroom'\nTraceback:\n",
      "1. predict(model_bayes, train_mushroom)",
      "2. predict.naive_bayes(model_bayes, train_mushroom)"
     ]
    }
   ],
   "source": [
    "p1 <- predict(model_bayes, train_mushroom)\n",
    "table(p1, train_dataset$class)"
   ]
  },
  {
   "cell_type": "code",
   "execution_count": 48,
   "id": "09f40ef1",
   "metadata": {
    "scrolled": true
   },
   "outputs": [
    {
     "name": "stderr",
     "output_type": "stream",
     "text": [
      "Warning message:\n",
      "\"predict.naive_bayes(): more features in the newdata are provided as there are probability tables in the object. Calculation is performed based on features to be found in the tables.\"\n"
     ]
    },
    {
     "data": {
      "text/plain": [
       "           \n",
       "p2          edible poisonous\n",
       "  edible      3726       405\n",
       "  poisonous     61      3119"
      ]
     },
     "metadata": {},
     "output_type": "display_data"
    }
   ],
   "source": [
    "p2 <- predict(model_bayes, test_dataset)\n",
    "table(p2, test_dataset$class)"
   ]
  },
  {
   "cell_type": "code",
   "execution_count": 130,
   "id": "0c018739",
   "metadata": {
    "scrolled": true
   },
   "outputs": [
    {
     "name": "stderr",
     "output_type": "stream",
     "text": [
      "Warning message:\n",
      "\"package 'MLmetrics' is in use and will not be installed\""
     ]
    }
   ],
   "source": [
    "install.packages(\"MLmetrics\")"
   ]
  },
  {
   "cell_type": "code",
   "execution_count": 131,
   "id": "b560a842",
   "metadata": {
    "scrolled": true
   },
   "outputs": [
    {
     "data": {
      "text/plain": [
       "           y_pred\n",
       "y_true      edible poisonous\n",
       "  edible      3726        61\n",
       "  poisonous    405      3119"
      ]
     },
     "metadata": {},
     "output_type": "display_data"
    },
    {
     "data": {
      "text/html": [
       "0.934483021400352"
      ],
      "text/latex": [
       "0.934483021400352"
      ],
      "text/markdown": [
       "0.934483021400352"
      ],
      "text/plain": [
       "[1] 0.934483"
      ]
     },
     "metadata": {},
     "output_type": "display_data"
    },
    {
     "data": {
      "text/html": [
       "0.93626042948981"
      ],
      "text/latex": [
       "0.93626042948981"
      ],
      "text/markdown": [
       "0.93626042948981"
      ],
      "text/plain": [
       "[1] 0.9362604"
      ]
     },
     "metadata": {},
     "output_type": "display_data"
    },
    {
     "data": {
      "text/html": [
       "0.983892263005017"
      ],
      "text/latex": [
       "0.983892263005017"
      ],
      "text/markdown": [
       "0.983892263005017"
      ],
      "text/plain": [
       "[1] 0.9838923"
      ]
     },
     "metadata": {},
     "output_type": "display_data"
    },
    {
     "data": {
      "text/html": [
       "0.901960784313726"
      ],
      "text/latex": [
       "0.901960784313726"
      ],
      "text/markdown": [
       "0.901960784313726"
      ],
      "text/plain": [
       "[1] 0.9019608"
      ]
     },
     "metadata": {},
     "output_type": "display_data"
    },
    {
     "data": {
      "text/html": [
       "0.941146754230866"
      ],
      "text/latex": [
       "0.941146754230866"
      ],
      "text/markdown": [
       "0.941146754230866"
      ],
      "text/plain": [
       "[1] 0.9411468"
      ]
     },
     "metadata": {},
     "output_type": "display_data"
    },
    {
     "data": {
      "text/html": [
       "0.966336428237979"
      ],
      "text/latex": [
       "0.966336428237979"
      ],
      "text/markdown": [
       "0.966336428237979"
      ],
      "text/plain": [
       "[1] 0.9663364"
      ]
     },
     "metadata": {},
     "output_type": "display_data"
    }
   ],
   "source": [
    "library(\"MLmetrics\")\n",
    "\n",
    "ConfusionMatrix(p2, test_dataset$class)\n",
    "\n",
    "ptest <- ifelse(p2 == \"edible\", 1, 0)\n",
    "test_dataset_test <-ifelse(test_dataset$class == \"edible\", 1, 0)\n",
    "AUC(ptest, test_dataset_test)\n",
    "Accuracy(p2, test_dataset$class)\n",
    "Precision(p2, test_dataset$class)\n",
    "Recall(p2, test_dataset$class)\n",
    "F1_Score(test_dataset$class, p2)\n",
    "f2score <- FBeta_Score(test_dataset_test, ptest, positive = \"1\", beta = 2)\n",
    "f2score"
   ]
  },
  {
   "cell_type": "code",
   "execution_count": null,
   "id": "3aacb792",
   "metadata": {},
   "outputs": [],
   "source": []
  }
 ],
 "metadata": {
  "kernelspec": {
   "display_name": "R",
   "language": "R",
   "name": "ir"
  },
  "language_info": {
   "codemirror_mode": "r",
   "file_extension": ".r",
   "mimetype": "text/x-r-source",
   "name": "R",
   "pygments_lexer": "r",
   "version": "4.2.0"
  }
 },
 "nbformat": 4,
 "nbformat_minor": 5
}
