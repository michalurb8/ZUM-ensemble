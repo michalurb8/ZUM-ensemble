{
 "cells": [
  {
   "cell_type": "code",
   "execution_count": 1,
   "id": "627b8972",
   "metadata": {},
   "outputs": [
    {
     "name": "stderr",
     "output_type": "stream",
     "text": [
      "── \u001b[1mAttaching packages\u001b[22m ─────────────────────────────────────────────────────────────────────────────── tidyverse 1.3.1 ──\n",
      "\n",
      "\u001b[32m✔\u001b[39m \u001b[34mggplot2\u001b[39m 3.3.6     \u001b[32m✔\u001b[39m \u001b[34mpurrr  \u001b[39m 0.3.4\n",
      "\u001b[32m✔\u001b[39m \u001b[34mtibble \u001b[39m 3.1.7     \u001b[32m✔\u001b[39m \u001b[34mdplyr  \u001b[39m 1.0.9\n",
      "\u001b[32m✔\u001b[39m \u001b[34mtidyr  \u001b[39m 1.2.0     \u001b[32m✔\u001b[39m \u001b[34mstringr\u001b[39m 1.4.0\n",
      "\u001b[32m✔\u001b[39m \u001b[34mreadr  \u001b[39m 2.1.2     \u001b[32m✔\u001b[39m \u001b[34mforcats\u001b[39m 0.5.1\n",
      "\n",
      "── \u001b[1mConflicts\u001b[22m ────────────────────────────────────────────────────────────────────────────────── tidyverse_conflicts() ──\n",
      "\u001b[31m✖\u001b[39m \u001b[34mdplyr\u001b[39m::\u001b[32mfilter()\u001b[39m masks \u001b[34mstats\u001b[39m::filter()\n",
      "\u001b[31m✖\u001b[39m \u001b[34mdplyr\u001b[39m::\u001b[32mlag()\u001b[39m    masks \u001b[34mstats\u001b[39m::lag()\n",
      "\n"
     ]
    }
   ],
   "source": [
    "library(tidyverse)"
   ]
  },
  {
   "cell_type": "code",
   "execution_count": 2,
   "id": "80ca3e9d",
   "metadata": {},
   "outputs": [],
   "source": [
    "names <- c('id_number', 'class', 'radius_mean', \n",
    "         'texture_mean', 'perimeter_mean', 'area_mean', \n",
    "         'smoothness_mean', 'compactness_mean', \n",
    "         'concavity_mean','concave_points_mean', \n",
    "         'symmetry_mean', 'fractal_dimension_mean',\n",
    "         'radius_se', 'texture_se', 'perimeter_se', \n",
    "         'area_se', 'smoothness_se', 'compactness_se', \n",
    "         'concavity_se', 'concave_points_se', \n",
    "         'symmetry_se', 'fractal_dimension_se', \n",
    "         'radius_worst', 'texture_worst', \n",
    "         'perimeter_worst', 'area_worst', \n",
    "         'smoothness_worst', 'compactness_worst', \n",
    "         'concavity_worst', 'concave_points_worst', \n",
    "         'symmetry_worst', 'fractal_dimension_worst')\n",
    "#length(names)\n",
    "breast_cancer <- read.csv(\"breastdata/wdbc.csv\", sep = ',', col.names=names)\n",
    "#ncol(breast_cancer)"
   ]
  },
  {
   "cell_type": "code",
   "execution_count": 3,
   "id": "a38f9642",
   "metadata": {
    "scrolled": true
   },
   "outputs": [
    {
     "data": {
      "text/html": [
       "<table class=\"dataframe\">\n",
       "<caption>A data.frame: 6 × 32</caption>\n",
       "<thead>\n",
       "\t<tr><th></th><th scope=col>id_number</th><th scope=col>class</th><th scope=col>radius_mean</th><th scope=col>texture_mean</th><th scope=col>perimeter_mean</th><th scope=col>area_mean</th><th scope=col>smoothness_mean</th><th scope=col>compactness_mean</th><th scope=col>concavity_mean</th><th scope=col>concave_points_mean</th><th scope=col>⋯</th><th scope=col>radius_worst</th><th scope=col>texture_worst</th><th scope=col>perimeter_worst</th><th scope=col>area_worst</th><th scope=col>smoothness_worst</th><th scope=col>compactness_worst</th><th scope=col>concavity_worst</th><th scope=col>concave_points_worst</th><th scope=col>symmetry_worst</th><th scope=col>fractal_dimension_worst</th></tr>\n",
       "\t<tr><th></th><th scope=col>&lt;int&gt;</th><th scope=col>&lt;chr&gt;</th><th scope=col>&lt;dbl&gt;</th><th scope=col>&lt;dbl&gt;</th><th scope=col>&lt;dbl&gt;</th><th scope=col>&lt;dbl&gt;</th><th scope=col>&lt;dbl&gt;</th><th scope=col>&lt;dbl&gt;</th><th scope=col>&lt;dbl&gt;</th><th scope=col>&lt;dbl&gt;</th><th scope=col>⋯</th><th scope=col>&lt;dbl&gt;</th><th scope=col>&lt;dbl&gt;</th><th scope=col>&lt;dbl&gt;</th><th scope=col>&lt;dbl&gt;</th><th scope=col>&lt;dbl&gt;</th><th scope=col>&lt;dbl&gt;</th><th scope=col>&lt;dbl&gt;</th><th scope=col>&lt;dbl&gt;</th><th scope=col>&lt;dbl&gt;</th><th scope=col>&lt;dbl&gt;</th></tr>\n",
       "</thead>\n",
       "<tbody>\n",
       "\t<tr><th scope=row>1</th><td>  842517</td><td>M</td><td>20.57</td><td>17.77</td><td>132.90</td><td>1326.0</td><td>0.08474</td><td>0.07864</td><td>0.0869</td><td>0.07017</td><td>⋯</td><td>24.99</td><td>23.41</td><td>158.80</td><td>1956.0</td><td>0.1238</td><td>0.1866</td><td>0.2416</td><td>0.1860</td><td>0.2750</td><td>0.08902</td></tr>\n",
       "\t<tr><th scope=row>2</th><td>84300903</td><td>M</td><td>19.69</td><td>21.25</td><td>130.00</td><td>1203.0</td><td>0.10960</td><td>0.15990</td><td>0.1974</td><td>0.12790</td><td>⋯</td><td>23.57</td><td>25.53</td><td>152.50</td><td>1709.0</td><td>0.1444</td><td>0.4245</td><td>0.4504</td><td>0.2430</td><td>0.3613</td><td>0.08758</td></tr>\n",
       "\t<tr><th scope=row>3</th><td>84348301</td><td>M</td><td>11.42</td><td>20.38</td><td> 77.58</td><td> 386.1</td><td>0.14250</td><td>0.28390</td><td>0.2414</td><td>0.10520</td><td>⋯</td><td>14.91</td><td>26.50</td><td> 98.87</td><td> 567.7</td><td>0.2098</td><td>0.8663</td><td>0.6869</td><td>0.2575</td><td>0.6638</td><td>0.17300</td></tr>\n",
       "\t<tr><th scope=row>4</th><td>84358402</td><td>M</td><td>20.29</td><td>14.34</td><td>135.10</td><td>1297.0</td><td>0.10030</td><td>0.13280</td><td>0.1980</td><td>0.10430</td><td>⋯</td><td>22.54</td><td>16.67</td><td>152.20</td><td>1575.0</td><td>0.1374</td><td>0.2050</td><td>0.4000</td><td>0.1625</td><td>0.2364</td><td>0.07678</td></tr>\n",
       "\t<tr><th scope=row>5</th><td>  843786</td><td>M</td><td>12.45</td><td>15.70</td><td> 82.57</td><td> 477.1</td><td>0.12780</td><td>0.17000</td><td>0.1578</td><td>0.08089</td><td>⋯</td><td>15.47</td><td>23.75</td><td>103.40</td><td> 741.6</td><td>0.1791</td><td>0.5249</td><td>0.5355</td><td>0.1741</td><td>0.3985</td><td>0.12440</td></tr>\n",
       "\t<tr><th scope=row>6</th><td>  844359</td><td>M</td><td>18.25</td><td>19.98</td><td>119.60</td><td>1040.0</td><td>0.09463</td><td>0.10900</td><td>0.1127</td><td>0.07400</td><td>⋯</td><td>22.88</td><td>27.66</td><td>153.20</td><td>1606.0</td><td>0.1442</td><td>0.2576</td><td>0.3784</td><td>0.1932</td><td>0.3063</td><td>0.08368</td></tr>\n",
       "</tbody>\n",
       "</table>\n"
      ],
      "text/latex": [
       "A data.frame: 6 × 32\n",
       "\\begin{tabular}{r|lllllllllllllllllllll}\n",
       "  & id\\_number & class & radius\\_mean & texture\\_mean & perimeter\\_mean & area\\_mean & smoothness\\_mean & compactness\\_mean & concavity\\_mean & concave\\_points\\_mean & ⋯ & radius\\_worst & texture\\_worst & perimeter\\_worst & area\\_worst & smoothness\\_worst & compactness\\_worst & concavity\\_worst & concave\\_points\\_worst & symmetry\\_worst & fractal\\_dimension\\_worst\\\\\n",
       "  & <int> & <chr> & <dbl> & <dbl> & <dbl> & <dbl> & <dbl> & <dbl> & <dbl> & <dbl> & ⋯ & <dbl> & <dbl> & <dbl> & <dbl> & <dbl> & <dbl> & <dbl> & <dbl> & <dbl> & <dbl>\\\\\n",
       "\\hline\n",
       "\t1 &   842517 & M & 20.57 & 17.77 & 132.90 & 1326.0 & 0.08474 & 0.07864 & 0.0869 & 0.07017 & ⋯ & 24.99 & 23.41 & 158.80 & 1956.0 & 0.1238 & 0.1866 & 0.2416 & 0.1860 & 0.2750 & 0.08902\\\\\n",
       "\t2 & 84300903 & M & 19.69 & 21.25 & 130.00 & 1203.0 & 0.10960 & 0.15990 & 0.1974 & 0.12790 & ⋯ & 23.57 & 25.53 & 152.50 & 1709.0 & 0.1444 & 0.4245 & 0.4504 & 0.2430 & 0.3613 & 0.08758\\\\\n",
       "\t3 & 84348301 & M & 11.42 & 20.38 &  77.58 &  386.1 & 0.14250 & 0.28390 & 0.2414 & 0.10520 & ⋯ & 14.91 & 26.50 &  98.87 &  567.7 & 0.2098 & 0.8663 & 0.6869 & 0.2575 & 0.6638 & 0.17300\\\\\n",
       "\t4 & 84358402 & M & 20.29 & 14.34 & 135.10 & 1297.0 & 0.10030 & 0.13280 & 0.1980 & 0.10430 & ⋯ & 22.54 & 16.67 & 152.20 & 1575.0 & 0.1374 & 0.2050 & 0.4000 & 0.1625 & 0.2364 & 0.07678\\\\\n",
       "\t5 &   843786 & M & 12.45 & 15.70 &  82.57 &  477.1 & 0.12780 & 0.17000 & 0.1578 & 0.08089 & ⋯ & 15.47 & 23.75 & 103.40 &  741.6 & 0.1791 & 0.5249 & 0.5355 & 0.1741 & 0.3985 & 0.12440\\\\\n",
       "\t6 &   844359 & M & 18.25 & 19.98 & 119.60 & 1040.0 & 0.09463 & 0.10900 & 0.1127 & 0.07400 & ⋯ & 22.88 & 27.66 & 153.20 & 1606.0 & 0.1442 & 0.2576 & 0.3784 & 0.1932 & 0.3063 & 0.08368\\\\\n",
       "\\end{tabular}\n"
      ],
      "text/markdown": [
       "\n",
       "A data.frame: 6 × 32\n",
       "\n",
       "| <!--/--> | id_number &lt;int&gt; | class &lt;chr&gt; | radius_mean &lt;dbl&gt; | texture_mean &lt;dbl&gt; | perimeter_mean &lt;dbl&gt; | area_mean &lt;dbl&gt; | smoothness_mean &lt;dbl&gt; | compactness_mean &lt;dbl&gt; | concavity_mean &lt;dbl&gt; | concave_points_mean &lt;dbl&gt; | ⋯ ⋯ | radius_worst &lt;dbl&gt; | texture_worst &lt;dbl&gt; | perimeter_worst &lt;dbl&gt; | area_worst &lt;dbl&gt; | smoothness_worst &lt;dbl&gt; | compactness_worst &lt;dbl&gt; | concavity_worst &lt;dbl&gt; | concave_points_worst &lt;dbl&gt; | symmetry_worst &lt;dbl&gt; | fractal_dimension_worst &lt;dbl&gt; |\n",
       "|---|---|---|---|---|---|---|---|---|---|---|---|---|---|---|---|---|---|---|---|---|---|\n",
       "| 1 |   842517 | M | 20.57 | 17.77 | 132.90 | 1326.0 | 0.08474 | 0.07864 | 0.0869 | 0.07017 | ⋯ | 24.99 | 23.41 | 158.80 | 1956.0 | 0.1238 | 0.1866 | 0.2416 | 0.1860 | 0.2750 | 0.08902 |\n",
       "| 2 | 84300903 | M | 19.69 | 21.25 | 130.00 | 1203.0 | 0.10960 | 0.15990 | 0.1974 | 0.12790 | ⋯ | 23.57 | 25.53 | 152.50 | 1709.0 | 0.1444 | 0.4245 | 0.4504 | 0.2430 | 0.3613 | 0.08758 |\n",
       "| 3 | 84348301 | M | 11.42 | 20.38 |  77.58 |  386.1 | 0.14250 | 0.28390 | 0.2414 | 0.10520 | ⋯ | 14.91 | 26.50 |  98.87 |  567.7 | 0.2098 | 0.8663 | 0.6869 | 0.2575 | 0.6638 | 0.17300 |\n",
       "| 4 | 84358402 | M | 20.29 | 14.34 | 135.10 | 1297.0 | 0.10030 | 0.13280 | 0.1980 | 0.10430 | ⋯ | 22.54 | 16.67 | 152.20 | 1575.0 | 0.1374 | 0.2050 | 0.4000 | 0.1625 | 0.2364 | 0.07678 |\n",
       "| 5 |   843786 | M | 12.45 | 15.70 |  82.57 |  477.1 | 0.12780 | 0.17000 | 0.1578 | 0.08089 | ⋯ | 15.47 | 23.75 | 103.40 |  741.6 | 0.1791 | 0.5249 | 0.5355 | 0.1741 | 0.3985 | 0.12440 |\n",
       "| 6 |   844359 | M | 18.25 | 19.98 | 119.60 | 1040.0 | 0.09463 | 0.10900 | 0.1127 | 0.07400 | ⋯ | 22.88 | 27.66 | 153.20 | 1606.0 | 0.1442 | 0.2576 | 0.3784 | 0.1932 | 0.3063 | 0.08368 |\n",
       "\n"
      ],
      "text/plain": [
       "  id_number class radius_mean texture_mean perimeter_mean area_mean\n",
       "1   842517  M     20.57       17.77        132.90         1326.0   \n",
       "2 84300903  M     19.69       21.25        130.00         1203.0   \n",
       "3 84348301  M     11.42       20.38         77.58          386.1   \n",
       "4 84358402  M     20.29       14.34        135.10         1297.0   \n",
       "5   843786  M     12.45       15.70         82.57          477.1   \n",
       "6   844359  M     18.25       19.98        119.60         1040.0   \n",
       "  smoothness_mean compactness_mean concavity_mean concave_points_mean ⋯\n",
       "1 0.08474         0.07864          0.0869         0.07017             ⋯\n",
       "2 0.10960         0.15990          0.1974         0.12790             ⋯\n",
       "3 0.14250         0.28390          0.2414         0.10520             ⋯\n",
       "4 0.10030         0.13280          0.1980         0.10430             ⋯\n",
       "5 0.12780         0.17000          0.1578         0.08089             ⋯\n",
       "6 0.09463         0.10900          0.1127         0.07400             ⋯\n",
       "  radius_worst texture_worst perimeter_worst area_worst smoothness_worst\n",
       "1 24.99        23.41         158.80          1956.0     0.1238          \n",
       "2 23.57        25.53         152.50          1709.0     0.1444          \n",
       "3 14.91        26.50          98.87           567.7     0.2098          \n",
       "4 22.54        16.67         152.20          1575.0     0.1374          \n",
       "5 15.47        23.75         103.40           741.6     0.1791          \n",
       "6 22.88        27.66         153.20          1606.0     0.1442          \n",
       "  compactness_worst concavity_worst concave_points_worst symmetry_worst\n",
       "1 0.1866            0.2416          0.1860               0.2750        \n",
       "2 0.4245            0.4504          0.2430               0.3613        \n",
       "3 0.8663            0.6869          0.2575               0.6638        \n",
       "4 0.2050            0.4000          0.1625               0.2364        \n",
       "5 0.5249            0.5355          0.1741               0.3985        \n",
       "6 0.2576            0.3784          0.1932               0.3063        \n",
       "  fractal_dimension_worst\n",
       "1 0.08902                \n",
       "2 0.08758                \n",
       "3 0.17300                \n",
       "4 0.07678                \n",
       "5 0.12440                \n",
       "6 0.08368                "
      ]
     },
     "metadata": {},
     "output_type": "display_data"
    }
   ],
   "source": [
    "head(breast_cancer)"
   ]
  },
  {
   "cell_type": "code",
   "execution_count": 19,
   "id": "4b89d5c0",
   "metadata": {},
   "outputs": [],
   "source": [
    "breast_cancer$id_number=NULL"
   ]
  },
  {
   "cell_type": "code",
   "execution_count": 20,
   "id": "76cf5b0a",
   "metadata": {},
   "outputs": [
    {
     "data": {
      "text/html": [
       "<table class=\"dataframe\">\n",
       "<caption>A data.frame: 6 × 31</caption>\n",
       "<thead>\n",
       "\t<tr><th></th><th scope=col>class</th><th scope=col>radius_mean</th><th scope=col>texture_mean</th><th scope=col>perimeter_mean</th><th scope=col>area_mean</th><th scope=col>smoothness_mean</th><th scope=col>compactness_mean</th><th scope=col>concavity_mean</th><th scope=col>concave_points_mean</th><th scope=col>symmetry_mean</th><th scope=col>...</th><th scope=col>radius_worst</th><th scope=col>texture_worst</th><th scope=col>perimeter_worst</th><th scope=col>area_worst</th><th scope=col>smoothness_worst</th><th scope=col>compactness_worst</th><th scope=col>concavity_worst</th><th scope=col>concave_points_worst</th><th scope=col>symmetry_worst</th><th scope=col>fractal_dimension_worst</th></tr>\n",
       "\t<tr><th></th><th scope=col>&lt;chr&gt;</th><th scope=col>&lt;dbl&gt;</th><th scope=col>&lt;dbl&gt;</th><th scope=col>&lt;dbl&gt;</th><th scope=col>&lt;dbl&gt;</th><th scope=col>&lt;dbl&gt;</th><th scope=col>&lt;dbl&gt;</th><th scope=col>&lt;dbl&gt;</th><th scope=col>&lt;dbl&gt;</th><th scope=col>&lt;dbl&gt;</th><th scope=col>...</th><th scope=col>&lt;dbl&gt;</th><th scope=col>&lt;dbl&gt;</th><th scope=col>&lt;dbl&gt;</th><th scope=col>&lt;dbl&gt;</th><th scope=col>&lt;dbl&gt;</th><th scope=col>&lt;dbl&gt;</th><th scope=col>&lt;dbl&gt;</th><th scope=col>&lt;dbl&gt;</th><th scope=col>&lt;dbl&gt;</th><th scope=col>&lt;dbl&gt;</th></tr>\n",
       "</thead>\n",
       "<tbody>\n",
       "\t<tr><th scope=row>1</th><td>M</td><td>20.57</td><td>17.77</td><td>132.90</td><td>1326.0</td><td>0.08474</td><td>0.07864</td><td>0.0869</td><td>0.07017</td><td>0.1812</td><td>...</td><td>24.99</td><td>23.41</td><td>158.80</td><td>1956.0</td><td>0.1238</td><td>0.1866</td><td>0.2416</td><td>0.1860</td><td>0.2750</td><td>0.08902</td></tr>\n",
       "\t<tr><th scope=row>2</th><td>M</td><td>19.69</td><td>21.25</td><td>130.00</td><td>1203.0</td><td>0.10960</td><td>0.15990</td><td>0.1974</td><td>0.12790</td><td>0.2069</td><td>...</td><td>23.57</td><td>25.53</td><td>152.50</td><td>1709.0</td><td>0.1444</td><td>0.4245</td><td>0.4504</td><td>0.2430</td><td>0.3613</td><td>0.08758</td></tr>\n",
       "\t<tr><th scope=row>3</th><td>M</td><td>11.42</td><td>20.38</td><td> 77.58</td><td> 386.1</td><td>0.14250</td><td>0.28390</td><td>0.2414</td><td>0.10520</td><td>0.2597</td><td>...</td><td>14.91</td><td>26.50</td><td> 98.87</td><td> 567.7</td><td>0.2098</td><td>0.8663</td><td>0.6869</td><td>0.2575</td><td>0.6638</td><td>0.17300</td></tr>\n",
       "\t<tr><th scope=row>4</th><td>M</td><td>20.29</td><td>14.34</td><td>135.10</td><td>1297.0</td><td>0.10030</td><td>0.13280</td><td>0.1980</td><td>0.10430</td><td>0.1809</td><td>...</td><td>22.54</td><td>16.67</td><td>152.20</td><td>1575.0</td><td>0.1374</td><td>0.2050</td><td>0.4000</td><td>0.1625</td><td>0.2364</td><td>0.07678</td></tr>\n",
       "\t<tr><th scope=row>5</th><td>M</td><td>12.45</td><td>15.70</td><td> 82.57</td><td> 477.1</td><td>0.12780</td><td>0.17000</td><td>0.1578</td><td>0.08089</td><td>0.2087</td><td>...</td><td>15.47</td><td>23.75</td><td>103.40</td><td> 741.6</td><td>0.1791</td><td>0.5249</td><td>0.5355</td><td>0.1741</td><td>0.3985</td><td>0.12440</td></tr>\n",
       "\t<tr><th scope=row>6</th><td>M</td><td>18.25</td><td>19.98</td><td>119.60</td><td>1040.0</td><td>0.09463</td><td>0.10900</td><td>0.1127</td><td>0.07400</td><td>0.1794</td><td>...</td><td>22.88</td><td>27.66</td><td>153.20</td><td>1606.0</td><td>0.1442</td><td>0.2576</td><td>0.3784</td><td>0.1932</td><td>0.3063</td><td>0.08368</td></tr>\n",
       "</tbody>\n",
       "</table>\n"
      ],
      "text/latex": [
       "A data.frame: 6 × 31\n",
       "\\begin{tabular}{r|lllllllllllllllllllll}\n",
       "  & class & radius\\_mean & texture\\_mean & perimeter\\_mean & area\\_mean & smoothness\\_mean & compactness\\_mean & concavity\\_mean & concave\\_points\\_mean & symmetry\\_mean & ... & radius\\_worst & texture\\_worst & perimeter\\_worst & area\\_worst & smoothness\\_worst & compactness\\_worst & concavity\\_worst & concave\\_points\\_worst & symmetry\\_worst & fractal\\_dimension\\_worst\\\\\n",
       "  & <chr> & <dbl> & <dbl> & <dbl> & <dbl> & <dbl> & <dbl> & <dbl> & <dbl> & <dbl> & ... & <dbl> & <dbl> & <dbl> & <dbl> & <dbl> & <dbl> & <dbl> & <dbl> & <dbl> & <dbl>\\\\\n",
       "\\hline\n",
       "\t1 & M & 20.57 & 17.77 & 132.90 & 1326.0 & 0.08474 & 0.07864 & 0.0869 & 0.07017 & 0.1812 & ... & 24.99 & 23.41 & 158.80 & 1956.0 & 0.1238 & 0.1866 & 0.2416 & 0.1860 & 0.2750 & 0.08902\\\\\n",
       "\t2 & M & 19.69 & 21.25 & 130.00 & 1203.0 & 0.10960 & 0.15990 & 0.1974 & 0.12790 & 0.2069 & ... & 23.57 & 25.53 & 152.50 & 1709.0 & 0.1444 & 0.4245 & 0.4504 & 0.2430 & 0.3613 & 0.08758\\\\\n",
       "\t3 & M & 11.42 & 20.38 &  77.58 &  386.1 & 0.14250 & 0.28390 & 0.2414 & 0.10520 & 0.2597 & ... & 14.91 & 26.50 &  98.87 &  567.7 & 0.2098 & 0.8663 & 0.6869 & 0.2575 & 0.6638 & 0.17300\\\\\n",
       "\t4 & M & 20.29 & 14.34 & 135.10 & 1297.0 & 0.10030 & 0.13280 & 0.1980 & 0.10430 & 0.1809 & ... & 22.54 & 16.67 & 152.20 & 1575.0 & 0.1374 & 0.2050 & 0.4000 & 0.1625 & 0.2364 & 0.07678\\\\\n",
       "\t5 & M & 12.45 & 15.70 &  82.57 &  477.1 & 0.12780 & 0.17000 & 0.1578 & 0.08089 & 0.2087 & ... & 15.47 & 23.75 & 103.40 &  741.6 & 0.1791 & 0.5249 & 0.5355 & 0.1741 & 0.3985 & 0.12440\\\\\n",
       "\t6 & M & 18.25 & 19.98 & 119.60 & 1040.0 & 0.09463 & 0.10900 & 0.1127 & 0.07400 & 0.1794 & ... & 22.88 & 27.66 & 153.20 & 1606.0 & 0.1442 & 0.2576 & 0.3784 & 0.1932 & 0.3063 & 0.08368\\\\\n",
       "\\end{tabular}\n"
      ],
      "text/markdown": [
       "\n",
       "A data.frame: 6 × 31\n",
       "\n",
       "| <!--/--> | class &lt;chr&gt; | radius_mean &lt;dbl&gt; | texture_mean &lt;dbl&gt; | perimeter_mean &lt;dbl&gt; | area_mean &lt;dbl&gt; | smoothness_mean &lt;dbl&gt; | compactness_mean &lt;dbl&gt; | concavity_mean &lt;dbl&gt; | concave_points_mean &lt;dbl&gt; | symmetry_mean &lt;dbl&gt; | ... ... | radius_worst &lt;dbl&gt; | texture_worst &lt;dbl&gt; | perimeter_worst &lt;dbl&gt; | area_worst &lt;dbl&gt; | smoothness_worst &lt;dbl&gt; | compactness_worst &lt;dbl&gt; | concavity_worst &lt;dbl&gt; | concave_points_worst &lt;dbl&gt; | symmetry_worst &lt;dbl&gt; | fractal_dimension_worst &lt;dbl&gt; |\n",
       "|---|---|---|---|---|---|---|---|---|---|---|---|---|---|---|---|---|---|---|---|---|---|\n",
       "| 1 | M | 20.57 | 17.77 | 132.90 | 1326.0 | 0.08474 | 0.07864 | 0.0869 | 0.07017 | 0.1812 | ... | 24.99 | 23.41 | 158.80 | 1956.0 | 0.1238 | 0.1866 | 0.2416 | 0.1860 | 0.2750 | 0.08902 |\n",
       "| 2 | M | 19.69 | 21.25 | 130.00 | 1203.0 | 0.10960 | 0.15990 | 0.1974 | 0.12790 | 0.2069 | ... | 23.57 | 25.53 | 152.50 | 1709.0 | 0.1444 | 0.4245 | 0.4504 | 0.2430 | 0.3613 | 0.08758 |\n",
       "| 3 | M | 11.42 | 20.38 |  77.58 |  386.1 | 0.14250 | 0.28390 | 0.2414 | 0.10520 | 0.2597 | ... | 14.91 | 26.50 |  98.87 |  567.7 | 0.2098 | 0.8663 | 0.6869 | 0.2575 | 0.6638 | 0.17300 |\n",
       "| 4 | M | 20.29 | 14.34 | 135.10 | 1297.0 | 0.10030 | 0.13280 | 0.1980 | 0.10430 | 0.1809 | ... | 22.54 | 16.67 | 152.20 | 1575.0 | 0.1374 | 0.2050 | 0.4000 | 0.1625 | 0.2364 | 0.07678 |\n",
       "| 5 | M | 12.45 | 15.70 |  82.57 |  477.1 | 0.12780 | 0.17000 | 0.1578 | 0.08089 | 0.2087 | ... | 15.47 | 23.75 | 103.40 |  741.6 | 0.1791 | 0.5249 | 0.5355 | 0.1741 | 0.3985 | 0.12440 |\n",
       "| 6 | M | 18.25 | 19.98 | 119.60 | 1040.0 | 0.09463 | 0.10900 | 0.1127 | 0.07400 | 0.1794 | ... | 22.88 | 27.66 | 153.20 | 1606.0 | 0.1442 | 0.2576 | 0.3784 | 0.1932 | 0.3063 | 0.08368 |\n",
       "\n"
      ],
      "text/plain": [
       "  class radius_mean texture_mean perimeter_mean area_mean smoothness_mean\n",
       "1 M     20.57       17.77        132.90         1326.0    0.08474        \n",
       "2 M     19.69       21.25        130.00         1203.0    0.10960        \n",
       "3 M     11.42       20.38         77.58          386.1    0.14250        \n",
       "4 M     20.29       14.34        135.10         1297.0    0.10030        \n",
       "5 M     12.45       15.70         82.57          477.1    0.12780        \n",
       "6 M     18.25       19.98        119.60         1040.0    0.09463        \n",
       "  compactness_mean concavity_mean concave_points_mean symmetry_mean ...\n",
       "1 0.07864          0.0869         0.07017             0.1812        ...\n",
       "2 0.15990          0.1974         0.12790             0.2069        ...\n",
       "3 0.28390          0.2414         0.10520             0.2597        ...\n",
       "4 0.13280          0.1980         0.10430             0.1809        ...\n",
       "5 0.17000          0.1578         0.08089             0.2087        ...\n",
       "6 0.10900          0.1127         0.07400             0.1794        ...\n",
       "  radius_worst texture_worst perimeter_worst area_worst smoothness_worst\n",
       "1 24.99        23.41         158.80          1956.0     0.1238          \n",
       "2 23.57        25.53         152.50          1709.0     0.1444          \n",
       "3 14.91        26.50          98.87           567.7     0.2098          \n",
       "4 22.54        16.67         152.20          1575.0     0.1374          \n",
       "5 15.47        23.75         103.40           741.6     0.1791          \n",
       "6 22.88        27.66         153.20          1606.0     0.1442          \n",
       "  compactness_worst concavity_worst concave_points_worst symmetry_worst\n",
       "1 0.1866            0.2416          0.1860               0.2750        \n",
       "2 0.4245            0.4504          0.2430               0.3613        \n",
       "3 0.8663            0.6869          0.2575               0.6638        \n",
       "4 0.2050            0.4000          0.1625               0.2364        \n",
       "5 0.5249            0.5355          0.1741               0.3985        \n",
       "6 0.2576            0.3784          0.1932               0.3063        \n",
       "  fractal_dimension_worst\n",
       "1 0.08902                \n",
       "2 0.08758                \n",
       "3 0.17300                \n",
       "4 0.07678                \n",
       "5 0.12440                \n",
       "6 0.08368                "
      ]
     },
     "metadata": {},
     "output_type": "display_data"
    }
   ],
   "source": [
    "head(breast_cancer)"
   ]
  },
  {
   "cell_type": "code",
   "execution_count": 21,
   "id": "ce21359b",
   "metadata": {},
   "outputs": [
    {
     "data": {
      "text/html": [
       "<style>\n",
       ".list-inline {list-style: none; margin:0; padding: 0}\n",
       ".list-inline>li {display: inline-block}\n",
       ".list-inline>li:not(:last-child)::after {content: \"\\00b7\"; padding: 0 .5ex}\n",
       "</style>\n",
       "<ol class=list-inline><li>568</li><li>31</li></ol>\n"
      ],
      "text/latex": [
       "\\begin{enumerate*}\n",
       "\\item 568\n",
       "\\item 31\n",
       "\\end{enumerate*}\n"
      ],
      "text/markdown": [
       "1. 568\n",
       "2. 31\n",
       "\n",
       "\n"
      ],
      "text/plain": [
       "[1] 568  31"
      ]
     },
     "metadata": {},
     "output_type": "display_data"
    }
   ],
   "source": [
    "breast_cancer %>% \n",
    "  dim()"
   ]
  },
  {
   "cell_type": "code",
   "execution_count": 22,
   "id": "8e355e68",
   "metadata": {},
   "outputs": [],
   "source": [
    "set.seed(42)\n",
    "trainIndex <- caret::createDataPartition(breast_cancer$class, \n",
    "                                  p = .1, \n",
    "                                  list = FALSE, \n",
    "                                  times = 1)\n",
    "train_dataset <- breast_cancer[ trainIndex, ]\n",
    "test_dataset <- breast_cancer[ -trainIndex, ]"
   ]
  },
  {
   "cell_type": "markdown",
   "id": "f60ff908",
   "metadata": {},
   "source": [
    "# DRZEWA"
   ]
  },
  {
   "cell_type": "code",
   "execution_count": 23,
   "id": "6edc25fd",
   "metadata": {},
   "outputs": [],
   "source": [
    "library(rpart)\n",
    "set.seed(1810)\n",
    "model_tree <- rpart(class ~ ., data = train_dataset, method = \"class\")"
   ]
  },
  {
   "cell_type": "code",
   "execution_count": 24,
   "id": "95eec558",
   "metadata": {},
   "outputs": [
    {
     "data": {
      "text/plain": [
       "      y_pred\n",
       "y_true  B  M\n",
       "     B 36  0\n",
       "     M  2 20"
      ]
     },
     "metadata": {},
     "output_type": "display_data"
    },
    {
     "data": {
      "text/html": [
       "0.954545454545455"
      ],
      "text/latex": [
       "0.954545454545455"
      ],
      "text/markdown": [
       "0.954545454545455"
      ],
      "text/plain": [
       "[1] 0.9545455"
      ]
     },
     "metadata": {},
     "output_type": "display_data"
    },
    {
     "data": {
      "text/html": [
       "0.96551724137931"
      ],
      "text/latex": [
       "0.96551724137931"
      ],
      "text/markdown": [
       "0.96551724137931"
      ],
      "text/plain": [
       "[1] 0.9655172"
      ]
     },
     "metadata": {},
     "output_type": "display_data"
    },
    {
     "data": {
      "text/html": [
       "1"
      ],
      "text/latex": [
       "1"
      ],
      "text/markdown": [
       "1"
      ],
      "text/plain": [
       "[1] 1"
      ]
     },
     "metadata": {},
     "output_type": "display_data"
    },
    {
     "data": {
      "text/html": [
       "0.947368421052632"
      ],
      "text/latex": [
       "0.947368421052632"
      ],
      "text/markdown": [
       "0.947368421052632"
      ],
      "text/plain": [
       "[1] 0.9473684"
      ]
     },
     "metadata": {},
     "output_type": "display_data"
    },
    {
     "data": {
      "text/html": [
       "0.972972972972973"
      ],
      "text/latex": [
       "0.972972972972973"
      ],
      "text/markdown": [
       "0.972972972972973"
      ],
      "text/plain": [
       "[1] 0.972973"
      ]
     },
     "metadata": {},
     "output_type": "display_data"
    },
    {
     "data": {
      "text/html": [
       "0.925925925925926"
      ],
      "text/latex": [
       "0.925925925925926"
      ],
      "text/markdown": [
       "0.925925925925926"
      ],
      "text/plain": [
       "[1] 0.9259259"
      ]
     },
     "metadata": {},
     "output_type": "display_data"
    }
   ],
   "source": [
    "library(\"MLmetrics\")\n",
    "predicted_bytree <- predict(model_tree, train_dataset, type=\"class\")\n",
    "#predicted_bytree\n",
    "#test_dataset\n",
    "ConfusionMatrix(predicted_bytree, train_dataset$class)\n",
    "ptest <- ifelse(predicted_bytree == \"M\", 1, 0)\n",
    "train_dataset_train <-ifelse(train_dataset$class == \"M\", 1, 0)\n",
    "AUC(ptest, train_dataset_train)\n",
    "Accuracy(predicted_bytree, train_dataset$class)\n",
    "Precision(predicted_bytree, train_dataset$class)\n",
    "Recall(predicted_bytree, train_dataset$class)\n",
    "F1_Score(train_dataset$class, predicted_bytree)\n",
    "f2score <- FBeta_Score(train_dataset_train, ptest, positive = \"1\", beta = 2)\n",
    "f2score"
   ]
  },
  {
   "cell_type": "code",
   "execution_count": 25,
   "id": "c240b09c",
   "metadata": {},
   "outputs": [
    {
     "data": {
      "text/plain": [
       "      y_pred\n",
       "y_true   B   M\n",
       "     B 310  11\n",
       "     M  34 155"
      ]
     },
     "metadata": {},
     "output_type": "display_data"
    },
    {
     "data": {
      "text/html": [
       "0.892918953666617"
      ],
      "text/latex": [
       "0.892918953666617"
      ],
      "text/markdown": [
       "0.892918953666617"
      ],
      "text/plain": [
       "[1] 0.892919"
      ]
     },
     "metadata": {},
     "output_type": "display_data"
    },
    {
     "data": {
      "text/html": [
       "0.911764705882353"
      ],
      "text/latex": [
       "0.911764705882353"
      ],
      "text/markdown": [
       "0.911764705882353"
      ],
      "text/plain": [
       "[1] 0.9117647"
      ]
     },
     "metadata": {},
     "output_type": "display_data"
    },
    {
     "data": {
      "text/html": [
       "0.965732087227414"
      ],
      "text/latex": [
       "0.965732087227414"
      ],
      "text/markdown": [
       "0.965732087227414"
      ],
      "text/plain": [
       "[1] 0.9657321"
      ]
     },
     "metadata": {},
     "output_type": "display_data"
    },
    {
     "data": {
      "text/html": [
       "0.901162790697674"
      ],
      "text/latex": [
       "0.901162790697674"
      ],
      "text/markdown": [
       "0.901162790697674"
      ],
      "text/plain": [
       "[1] 0.9011628"
      ]
     },
     "metadata": {},
     "output_type": "display_data"
    },
    {
     "data": {
      "text/html": [
       "0.932330827067669"
      ],
      "text/latex": [
       "0.932330827067669"
      ],
      "text/markdown": [
       "0.932330827067669"
      ],
      "text/plain": [
       "[1] 0.9323308"
      ]
     },
     "metadata": {},
     "output_type": "display_data"
    },
    {
     "data": {
      "text/html": [
       "0.84056399132321"
      ],
      "text/latex": [
       "0.84056399132321"
      ],
      "text/markdown": [
       "0.84056399132321"
      ],
      "text/plain": [
       "[1] 0.840564"
      ]
     },
     "metadata": {},
     "output_type": "display_data"
    }
   ],
   "source": [
    "library(\"MLmetrics\")\n",
    "predicted_bytree <- predict(model_tree, test_dataset, type=\"class\")\n",
    "#predicted_bytree\n",
    "#test_dataset\n",
    "ConfusionMatrix(predicted_bytree, test_dataset$class)\n",
    "ptest <- ifelse(predicted_bytree == \"M\", 1, 0)\n",
    "test_dataset_test <-ifelse(test_dataset$class == \"M\", 1, 0)\n",
    "AUC(ptest, test_dataset_test)\n",
    "Accuracy(predicted_bytree, test_dataset$class)\n",
    "Precision(predicted_bytree, test_dataset$class)\n",
    "Recall(predicted_bytree, test_dataset$class)\n",
    "F1_Score(test_dataset$class, predicted_bytree)\n",
    "f2score <- FBeta_Score(test_dataset_test, ptest, positive = \"1\", beta = 2)\n",
    "f2score"
   ]
  },
  {
   "cell_type": "markdown",
   "id": "589da6bf",
   "metadata": {},
   "source": [
    "# RANDOM FOREST"
   ]
  },
  {
   "cell_type": "code",
   "execution_count": 27,
   "id": "3e0732d4",
   "metadata": {},
   "outputs": [
    {
     "name": "stderr",
     "output_type": "stream",
     "text": [
      "Warning message in randomForest.default(m, y, ...):\n",
      "\"The response has five or fewer unique values.  Are you sure you want to do regression?\"\n",
      "Warning message in mean.default(y):\n",
      "\"argument nie jest wartością liczbową ani logiczną: zwracanie wartości NA\"\n"
     ]
    },
    {
     "ename": "ERROR",
     "evalue": "Error in y - ymean: argument nieliczbowy przekazany do operatora dwuargumentowego\n",
     "output_type": "error",
     "traceback": [
      "Error in y - ymean: argument nieliczbowy przekazany do operatora dwuargumentowego\nTraceback:\n",
      "1. randomForest(class ~ ., ntree = 100, data = train_dataset)",
      "2. randomForest.formula(class ~ ., ntree = 100, data = train_dataset)",
      "3. randomForest.default(m, y, ...)"
     ]
    }
   ],
   "source": [
    "library(randomForest)\n",
    "model_rf <- randomForest(class ~ ., ntree = 100, data = train_dataset)"
   ]
  },
  {
   "cell_type": "code",
   "execution_count": 28,
   "id": "bb5eaa9b",
   "metadata": {},
   "outputs": [
    {
     "ename": "ERROR",
     "evalue": "Error in predict(model_rf, train_dataset, type = \"class\"): nie znaleziono obiektu 'model_rf'\n",
     "output_type": "error",
     "traceback": [
      "Error in predict(model_rf, train_dataset, type = \"class\"): nie znaleziono obiektu 'model_rf'\nTraceback:\n",
      "1. predict(model_rf, train_dataset, type = \"class\")"
     ]
    }
   ],
   "source": [
    "library(\"MLmetrics\")\n",
    "predicted_bytree <- predict(model_rf, train_dataset, type=\"class\")\n",
    "#predicted_bytree\n",
    "#test_dataset\n",
    "ConfusionMatrix(predicted_bytree, train_dataset$class)\n",
    "ptest <- ifelse(predicted_bytree == \"M\", 1, 0)\n",
    "train_dataset_train <-ifelse(train_dataset$class == \"M\", 1, 0)\n",
    "AUC(ptest, train_dataset_train)\n",
    "Accuracy(predicted_bytree, train_dataset$class)\n",
    "Precision(predicted_bytree, train_dataset$class)\n",
    "Recall(predicted_bytree, train_dataset$class)\n",
    "F1_Score(train_dataset$class, predicted_bytree)\n",
    "f2score <- FBeta_Score(train_dataset_train, ptest, positive = \"1\", beta = 2)\n",
    "f2score"
   ]
  },
  {
   "cell_type": "code",
   "execution_count": 68,
   "id": "ca693218",
   "metadata": {},
   "outputs": [
    {
     "data": {
      "text/plain": [
       "      y_pred\n",
       "y_true   B   M\n",
       "     B 311  10\n",
       "     M  22 167"
      ]
     },
     "metadata": {},
     "output_type": "display_data"
    },
    {
     "data": {
      "text/html": [
       "0.926222617811403"
      ],
      "text/latex": [
       "0.926222617811403"
      ],
      "text/markdown": [
       "0.926222617811403"
      ],
      "text/plain": [
       "[1] 0.9262226"
      ]
     },
     "metadata": {},
     "output_type": "display_data"
    },
    {
     "data": {
      "text/html": [
       "0.937254901960784"
      ],
      "text/latex": [
       "0.937254901960784"
      ],
      "text/markdown": [
       "0.937254901960784"
      ],
      "text/plain": [
       "[1] 0.9372549"
      ]
     },
     "metadata": {},
     "output_type": "display_data"
    },
    {
     "data": {
      "text/html": [
       "0.968847352024922"
      ],
      "text/latex": [
       "0.968847352024922"
      ],
      "text/markdown": [
       "0.968847352024922"
      ],
      "text/plain": [
       "[1] 0.9688474"
      ]
     },
     "metadata": {},
     "output_type": "display_data"
    },
    {
     "data": {
      "text/html": [
       "0.933933933933934"
      ],
      "text/latex": [
       "0.933933933933934"
      ],
      "text/markdown": [
       "0.933933933933934"
      ],
      "text/plain": [
       "[1] 0.9339339"
      ]
     },
     "metadata": {},
     "output_type": "display_data"
    },
    {
     "data": {
      "text/html": [
       "0.951070336391437"
      ],
      "text/latex": [
       "0.951070336391437"
      ],
      "text/markdown": [
       "0.951070336391437"
      ],
      "text/plain": [
       "[1] 0.9510703"
      ]
     },
     "metadata": {},
     "output_type": "display_data"
    },
    {
     "data": {
      "text/html": [
       "0.894962486602358"
      ],
      "text/latex": [
       "0.894962486602358"
      ],
      "text/markdown": [
       "0.894962486602358"
      ],
      "text/plain": [
       "[1] 0.8949625"
      ]
     },
     "metadata": {},
     "output_type": "display_data"
    }
   ],
   "source": [
    "library(\"MLmetrics\")\n",
    "predicted_bytree <- predict(model_rf, test_dataset, type=\"class\")\n",
    "#predicted_bytree\n",
    "#test_dataset\n",
    "ConfusionMatrix(predicted_bytree, test_dataset$class)\n",
    "ptest <- ifelse(predicted_bytree == \"M\", 1, 0)\n",
    "test_dataset_test <-ifelse(test_dataset$class == \"M\", 1, 0)\n",
    "AUC(ptest, test_dataset_test)\n",
    "Accuracy(predicted_bytree, test_dataset$class)\n",
    "Precision(predicted_bytree, test_dataset$class)\n",
    "Recall(predicted_bytree, test_dataset$class)\n",
    "F1_Score(test_dataset$class, predicted_bytree)\n",
    "f2score <- FBeta_Score(test_dataset_test, ptest, positive = \"1\", beta = 2)\n",
    "f2score"
   ]
  },
  {
   "cell_type": "markdown",
   "id": "03c1b192",
   "metadata": {},
   "source": [
    "# SVM"
   ]
  },
  {
   "cell_type": "code",
   "execution_count": 197,
   "id": "69270166",
   "metadata": {},
   "outputs": [],
   "source": [
    "library(e1071)\n",
    "model_svm <- svm(class ~. , data=train_dataset, cost = 1000, gamma = 0.01)"
   ]
  },
  {
   "cell_type": "code",
   "execution_count": 198,
   "id": "ab2172cc",
   "metadata": {},
   "outputs": [
    {
     "data": {
      "text/plain": [
       "      y_pred\n",
       "y_true  B  M\n",
       "     B 36  0\n",
       "     M  0 22"
      ]
     },
     "metadata": {},
     "output_type": "display_data"
    },
    {
     "data": {
      "text/html": [
       "1"
      ],
      "text/latex": [
       "1"
      ],
      "text/markdown": [
       "1"
      ],
      "text/plain": [
       "[1] 1"
      ]
     },
     "metadata": {},
     "output_type": "display_data"
    },
    {
     "data": {
      "text/html": [
       "1"
      ],
      "text/latex": [
       "1"
      ],
      "text/markdown": [
       "1"
      ],
      "text/plain": [
       "[1] 1"
      ]
     },
     "metadata": {},
     "output_type": "display_data"
    },
    {
     "data": {
      "text/html": [
       "1"
      ],
      "text/latex": [
       "1"
      ],
      "text/markdown": [
       "1"
      ],
      "text/plain": [
       "[1] 1"
      ]
     },
     "metadata": {},
     "output_type": "display_data"
    },
    {
     "data": {
      "text/html": [
       "1"
      ],
      "text/latex": [
       "1"
      ],
      "text/markdown": [
       "1"
      ],
      "text/plain": [
       "[1] 1"
      ]
     },
     "metadata": {},
     "output_type": "display_data"
    },
    {
     "data": {
      "text/html": [
       "1"
      ],
      "text/latex": [
       "1"
      ],
      "text/markdown": [
       "1"
      ],
      "text/plain": [
       "[1] 1"
      ]
     },
     "metadata": {},
     "output_type": "display_data"
    },
    {
     "data": {
      "text/html": [
       "1"
      ],
      "text/latex": [
       "1"
      ],
      "text/markdown": [
       "1"
      ],
      "text/plain": [
       "[1] 1"
      ]
     },
     "metadata": {},
     "output_type": "display_data"
    }
   ],
   "source": [
    "library(\"MLmetrics\")\n",
    "predicted_bytree <- predict(model_svm, train_dataset, type=\"class\")\n",
    "#predicted_bytree\n",
    "#test_dataset\n",
    "ConfusionMatrix(predicted_bytree, train_dataset$class)\n",
    "ptest <- ifelse(predicted_bytree == \"M\", 1, 0)\n",
    "train_dataset_train <-ifelse(train_dataset$class == \"M\", 1, 0)\n",
    "AUC(ptest, train_dataset_train)\n",
    "Accuracy(predicted_bytree, train_dataset$class)\n",
    "Precision(predicted_bytree, train_dataset$class)\n",
    "Recall(predicted_bytree, train_dataset$class)\n",
    "F1_Score(train_dataset$class, predicted_bytree)\n",
    "f2score <- FBeta_Score(train_dataset_train, ptest, positive = \"1\", beta = 2)\n",
    "f2score"
   ]
  },
  {
   "cell_type": "code",
   "execution_count": 199,
   "id": "9b1d69ce",
   "metadata": {},
   "outputs": [
    {
     "data": {
      "text/plain": [
       "      y_pred\n",
       "y_true   B   M\n",
       "     B 312   9\n",
       "     M  18 171"
      ]
     },
     "metadata": {},
     "output_type": "display_data"
    },
    {
     "data": {
      "text/html": [
       "0.938362260792167"
      ],
      "text/latex": [
       "0.938362260792167"
      ],
      "text/markdown": [
       "0.938362260792167"
      ],
      "text/plain": [
       "[1] 0.9383623"
      ]
     },
     "metadata": {},
     "output_type": "display_data"
    },
    {
     "data": {
      "text/html": [
       "0.947058823529412"
      ],
      "text/latex": [
       "0.947058823529412"
      ],
      "text/markdown": [
       "0.947058823529412"
      ],
      "text/plain": [
       "[1] 0.9470588"
      ]
     },
     "metadata": {},
     "output_type": "display_data"
    },
    {
     "data": {
      "text/html": [
       "0.97196261682243"
      ],
      "text/latex": [
       "0.97196261682243"
      ],
      "text/markdown": [
       "0.97196261682243"
      ],
      "text/plain": [
       "[1] 0.9719626"
      ]
     },
     "metadata": {},
     "output_type": "display_data"
    },
    {
     "data": {
      "text/html": [
       "0.945454545454545"
      ],
      "text/latex": [
       "0.945454545454545"
      ],
      "text/markdown": [
       "0.945454545454545"
      ],
      "text/plain": [
       "[1] 0.9454545"
      ]
     },
     "metadata": {},
     "output_type": "display_data"
    },
    {
     "data": {
      "text/html": [
       "0.95852534562212"
      ],
      "text/latex": [
       "0.95852534562212"
      ],
      "text/markdown": [
       "0.95852534562212"
      ],
      "text/plain": [
       "[1] 0.9585253"
      ]
     },
     "metadata": {},
     "output_type": "display_data"
    },
    {
     "data": {
      "text/html": [
       "0.913461538461538"
      ],
      "text/latex": [
       "0.913461538461538"
      ],
      "text/markdown": [
       "0.913461538461538"
      ],
      "text/plain": [
       "[1] 0.9134615"
      ]
     },
     "metadata": {},
     "output_type": "display_data"
    }
   ],
   "source": [
    "library(\"MLmetrics\")\n",
    "predicted_bytree <- predict(model_svm, test_dataset, type=\"class\")\n",
    "#predicted_bytree\n",
    "#test_dataset\n",
    "ConfusionMatrix(predicted_bytree, test_dataset$class)\n",
    "ptest <- ifelse(predicted_bytree == \"M\", 1, 0)\n",
    "test_dataset_test <-ifelse(test_dataset$class == \"M\", 1, 0)\n",
    "AUC(ptest, test_dataset_test)\n",
    "Accuracy(predicted_bytree, test_dataset$class)\n",
    "Precision(predicted_bytree, test_dataset$class)\n",
    "Recall(predicted_bytree, test_dataset$class)\n",
    "F1_Score(test_dataset$class, predicted_bytree)\n",
    "f2score <- FBeta_Score(test_dataset_test, ptest, positive = \"1\", beta = 2)\n",
    "f2score"
   ]
  },
  {
   "cell_type": "markdown",
   "id": "01549d99",
   "metadata": {},
   "source": [
    "# SVM #2"
   ]
  },
  {
   "cell_type": "code",
   "execution_count": 225,
   "id": "55a33a01",
   "metadata": {},
   "outputs": [],
   "source": [
    "library(kernlab)\n",
    "#model_svm <- svm(class ~. , data=train_dataset, cost = 1000, gamma = 0.01)\n",
    "#model_svm <- ksvm(class ~. , data=train_dataset, C =1000, gamma=0.01)\n",
    "model_svm <- ksvm(class ~. , data=train_dataset)"
   ]
  },
  {
   "cell_type": "code",
   "execution_count": 226,
   "id": "01d356f6",
   "metadata": {},
   "outputs": [
    {
     "data": {
      "text/plain": [
       "      y_pred\n",
       "y_true  B  M\n",
       "     B 36  0\n",
       "     M  1 21"
      ]
     },
     "metadata": {},
     "output_type": "display_data"
    },
    {
     "data": {
      "text/html": [
       "0.977272727272727"
      ],
      "text/latex": [
       "0.977272727272727"
      ],
      "text/markdown": [
       "0.977272727272727"
      ],
      "text/plain": [
       "[1] 0.9772727"
      ]
     },
     "metadata": {},
     "output_type": "display_data"
    },
    {
     "data": {
      "text/html": [
       "0.982758620689655"
      ],
      "text/latex": [
       "0.982758620689655"
      ],
      "text/markdown": [
       "0.982758620689655"
      ],
      "text/plain": [
       "[1] 0.9827586"
      ]
     },
     "metadata": {},
     "output_type": "display_data"
    },
    {
     "data": {
      "text/html": [
       "1"
      ],
      "text/latex": [
       "1"
      ],
      "text/markdown": [
       "1"
      ],
      "text/plain": [
       "[1] 1"
      ]
     },
     "metadata": {},
     "output_type": "display_data"
    },
    {
     "data": {
      "text/html": [
       "0.972972972972973"
      ],
      "text/latex": [
       "0.972972972972973"
      ],
      "text/markdown": [
       "0.972972972972973"
      ],
      "text/plain": [
       "[1] 0.972973"
      ]
     },
     "metadata": {},
     "output_type": "display_data"
    },
    {
     "data": {
      "text/html": [
       "0.986301369863014"
      ],
      "text/latex": [
       "0.986301369863014"
      ],
      "text/markdown": [
       "0.986301369863014"
      ],
      "text/plain": [
       "[1] 0.9863014"
      ]
     },
     "metadata": {},
     "output_type": "display_data"
    },
    {
     "data": {
      "text/html": [
       "0.963302752293578"
      ],
      "text/latex": [
       "0.963302752293578"
      ],
      "text/markdown": [
       "0.963302752293578"
      ],
      "text/plain": [
       "[1] 0.9633028"
      ]
     },
     "metadata": {},
     "output_type": "display_data"
    }
   ],
   "source": [
    "library(\"MLmetrics\")\n",
    "predicted_bytree <- predict(model_svm, train_dataset)\n",
    "#predicted_bytree\n",
    "#test_dataset\n",
    "ConfusionMatrix(predicted_bytree, train_dataset$class)\n",
    "ptest <- ifelse(predicted_bytree == \"M\", 1, 0)\n",
    "train_dataset_train <-ifelse(train_dataset$class == \"M\", 1, 0)\n",
    "AUC(ptest, train_dataset_train)\n",
    "Accuracy(predicted_bytree, train_dataset$class)\n",
    "Precision(predicted_bytree, train_dataset$class)\n",
    "Recall(predicted_bytree, train_dataset$class)\n",
    "F1_Score(train_dataset$class, predicted_bytree)\n",
    "f2score <- FBeta_Score(train_dataset_train, ptest, positive = \"1\", beta = 2)\n",
    "f2score"
   ]
  },
  {
   "cell_type": "code",
   "execution_count": 227,
   "id": "751a35e1",
   "metadata": {},
   "outputs": [
    {
     "data": {
      "text/plain": [
       "      y_pred\n",
       "y_true   B   M\n",
       "     B 310  11\n",
       "     M  24 165"
      ]
     },
     "metadata": {},
     "output_type": "display_data"
    },
    {
     "data": {
      "text/html": [
       "0.919373980121644"
      ],
      "text/latex": [
       "0.919373980121644"
      ],
      "text/markdown": [
       "0.919373980121644"
      ],
      "text/plain": [
       "[1] 0.919374"
      ]
     },
     "metadata": {},
     "output_type": "display_data"
    },
    {
     "data": {
      "text/html": [
       "0.931372549019608"
      ],
      "text/latex": [
       "0.931372549019608"
      ],
      "text/markdown": [
       "0.931372549019608"
      ],
      "text/plain": [
       "[1] 0.9313725"
      ]
     },
     "metadata": {},
     "output_type": "display_data"
    },
    {
     "data": {
      "text/html": [
       "0.965732087227414"
      ],
      "text/latex": [
       "0.965732087227414"
      ],
      "text/markdown": [
       "0.965732087227414"
      ],
      "text/plain": [
       "[1] 0.9657321"
      ]
     },
     "metadata": {},
     "output_type": "display_data"
    },
    {
     "data": {
      "text/html": [
       "0.92814371257485"
      ],
      "text/latex": [
       "0.92814371257485"
      ],
      "text/markdown": [
       "0.92814371257485"
      ],
      "text/plain": [
       "[1] 0.9281437"
      ]
     },
     "metadata": {},
     "output_type": "display_data"
    },
    {
     "data": {
      "text/html": [
       "0.946564885496183"
      ],
      "text/latex": [
       "0.946564885496183"
      ],
      "text/markdown": [
       "0.946564885496183"
      ],
      "text/plain": [
       "[1] 0.9465649"
      ]
     },
     "metadata": {},
     "output_type": "display_data"
    },
    {
     "data": {
      "text/html": [
       "0.88519313304721"
      ],
      "text/latex": [
       "0.88519313304721"
      ],
      "text/markdown": [
       "0.88519313304721"
      ],
      "text/plain": [
       "[1] 0.8851931"
      ]
     },
     "metadata": {},
     "output_type": "display_data"
    }
   ],
   "source": [
    "library(\"MLmetrics\")\n",
    "predicted_bytree <- predict(model_svm, test_dataset)\n",
    "#predicted_bytree\n",
    "#test_dataset\n",
    "ConfusionMatrix(predicted_bytree, test_dataset$class)\n",
    "ptest <- ifelse(predicted_bytree == \"M\", 1, 0)\n",
    "test_dataset_test <-ifelse(test_dataset$class == \"M\", 1, 0)\n",
    "AUC(ptest, test_dataset_test)\n",
    "Accuracy(predicted_bytree, test_dataset$class)\n",
    "Precision(predicted_bytree, test_dataset$class)\n",
    "Recall(predicted_bytree, test_dataset$class)\n",
    "F1_Score(test_dataset$class, predicted_bytree)\n",
    "f2score <- FBeta_Score(test_dataset_test, ptest, positive = \"1\", beta = 2)\n",
    "f2score"
   ]
  },
  {
   "cell_type": "markdown",
   "id": "07117a17",
   "metadata": {},
   "source": [
    "# BAYES"
   ]
  },
  {
   "cell_type": "code",
   "execution_count": 146,
   "id": "1b9330dc",
   "metadata": {},
   "outputs": [],
   "source": [
    "library(naivebayes)\n",
    "model_bayes <- naive_bayes(class ~ ., data = train_dataset, usekernel = T, laplace=1) "
   ]
  },
  {
   "cell_type": "code",
   "execution_count": 76,
   "id": "e1f5afca",
   "metadata": {},
   "outputs": [
    {
     "name": "stderr",
     "output_type": "stream",
     "text": [
      "Warning message:\n",
      "\"predict.naive_bayes(): more features in the newdata are provided as there are probability tables in the object. Calculation is performed based on features to be found in the tables.\""
     ]
    },
    {
     "data": {
      "text/plain": [
       "      y_pred\n",
       "y_true  B  M\n",
       "     B 36  0\n",
       "     M  1 21"
      ]
     },
     "metadata": {},
     "output_type": "display_data"
    },
    {
     "data": {
      "text/html": [
       "0.977272727272727"
      ],
      "text/latex": [
       "0.977272727272727"
      ],
      "text/markdown": [
       "0.977272727272727"
      ],
      "text/plain": [
       "[1] 0.9772727"
      ]
     },
     "metadata": {},
     "output_type": "display_data"
    },
    {
     "data": {
      "text/html": [
       "0.982758620689655"
      ],
      "text/latex": [
       "0.982758620689655"
      ],
      "text/markdown": [
       "0.982758620689655"
      ],
      "text/plain": [
       "[1] 0.9827586"
      ]
     },
     "metadata": {},
     "output_type": "display_data"
    },
    {
     "data": {
      "text/html": [
       "1"
      ],
      "text/latex": [
       "1"
      ],
      "text/markdown": [
       "1"
      ],
      "text/plain": [
       "[1] 1"
      ]
     },
     "metadata": {},
     "output_type": "display_data"
    },
    {
     "data": {
      "text/html": [
       "0.972972972972973"
      ],
      "text/latex": [
       "0.972972972972973"
      ],
      "text/markdown": [
       "0.972972972972973"
      ],
      "text/plain": [
       "[1] 0.972973"
      ]
     },
     "metadata": {},
     "output_type": "display_data"
    },
    {
     "data": {
      "text/html": [
       "0.986301369863014"
      ],
      "text/latex": [
       "0.986301369863014"
      ],
      "text/markdown": [
       "0.986301369863014"
      ],
      "text/plain": [
       "[1] 0.9863014"
      ]
     },
     "metadata": {},
     "output_type": "display_data"
    },
    {
     "data": {
      "text/html": [
       "0.963302752293578"
      ],
      "text/latex": [
       "0.963302752293578"
      ],
      "text/markdown": [
       "0.963302752293578"
      ],
      "text/plain": [
       "[1] 0.9633028"
      ]
     },
     "metadata": {},
     "output_type": "display_data"
    }
   ],
   "source": [
    "library(\"MLmetrics\")\n",
    "predicted_bytree <- predict(model_bayes, train_dataset, type=\"class\")\n",
    "#predicted_bytree\n",
    "#test_dataset\n",
    "ConfusionMatrix(predicted_bytree, train_dataset$class)\n",
    "ptest <- ifelse(predicted_bytree == \"M\", 1, 0)\n",
    "train_dataset_train <-ifelse(train_dataset$class == \"M\", 1, 0)\n",
    "AUC(ptest, train_dataset_train)\n",
    "Accuracy(predicted_bytree, train_dataset$class)\n",
    "Precision(predicted_bytree, train_dataset$class)\n",
    "Recall(predicted_bytree, train_dataset$class)\n",
    "F1_Score(train_dataset$class, predicted_bytree)\n",
    "f2score <- FBeta_Score(train_dataset_train, ptest, positive = \"1\", beta = 2)\n",
    "f2score"
   ]
  },
  {
   "cell_type": "code",
   "execution_count": 77,
   "id": "18e725e2",
   "metadata": {},
   "outputs": [
    {
     "name": "stderr",
     "output_type": "stream",
     "text": [
      "Warning message:\n",
      "\"predict.naive_bayes(): more features in the newdata are provided as there are probability tables in the object. Calculation is performed based on features to be found in the tables.\""
     ]
    },
    {
     "data": {
      "text/plain": [
       "      y_pred\n",
       "y_true   B   M\n",
       "     B 289  32\n",
       "     M  17 172"
      ]
     },
     "metadata": {},
     "output_type": "display_data"
    },
    {
     "data": {
      "text/html": [
       "0.90518221826633"
      ],
      "text/latex": [
       "0.90518221826633"
      ],
      "text/markdown": [
       "0.90518221826633"
      ],
      "text/plain": [
       "[1] 0.9051822"
      ]
     },
     "metadata": {},
     "output_type": "display_data"
    },
    {
     "data": {
      "text/html": [
       "0.903921568627451"
      ],
      "text/latex": [
       "0.903921568627451"
      ],
      "text/markdown": [
       "0.903921568627451"
      ],
      "text/plain": [
       "[1] 0.9039216"
      ]
     },
     "metadata": {},
     "output_type": "display_data"
    },
    {
     "data": {
      "text/html": [
       "0.900311526479751"
      ],
      "text/latex": [
       "0.900311526479751"
      ],
      "text/markdown": [
       "0.900311526479751"
      ],
      "text/plain": [
       "[1] 0.9003115"
      ]
     },
     "metadata": {},
     "output_type": "display_data"
    },
    {
     "data": {
      "text/html": [
       "0.944444444444444"
      ],
      "text/latex": [
       "0.944444444444444"
      ],
      "text/markdown": [
       "0.944444444444444"
      ],
      "text/plain": [
       "[1] 0.9444444"
      ]
     },
     "metadata": {},
     "output_type": "display_data"
    },
    {
     "data": {
      "text/html": [
       "0.921850079744817"
      ],
      "text/latex": [
       "0.921850079744817"
      ],
      "text/markdown": [
       "0.921850079744817"
      ],
      "text/plain": [
       "[1] 0.9218501"
      ]
     },
     "metadata": {},
     "output_type": "display_data"
    },
    {
     "data": {
      "text/html": [
       "0.895833333333333"
      ],
      "text/latex": [
       "0.895833333333333"
      ],
      "text/markdown": [
       "0.895833333333333"
      ],
      "text/plain": [
       "[1] 0.8958333"
      ]
     },
     "metadata": {},
     "output_type": "display_data"
    }
   ],
   "source": [
    "library(\"MLmetrics\")\n",
    "predicted_bytree <- predict(model_bayes, test_dataset, type=\"class\")\n",
    "#predicted_bytree\n",
    "#test_dataset\n",
    "ConfusionMatrix(predicted_bytree, test_dataset$class)\n",
    "ptest <- ifelse(predicted_bytree == \"M\", 1, 0)\n",
    "test_dataset_test <-ifelse(test_dataset$class == \"M\", 1, 0)\n",
    "AUC(ptest, test_dataset_test)\n",
    "Accuracy(predicted_bytree, test_dataset$class)\n",
    "Precision(predicted_bytree, test_dataset$class)\n",
    "Recall(predicted_bytree, test_dataset$class)\n",
    "F1_Score(test_dataset$class, predicted_bytree)\n",
    "f2score <- FBeta_Score(test_dataset_test, ptest, positive = \"1\", beta = 2)\n",
    "f2score"
   ]
  },
  {
   "cell_type": "markdown",
   "id": "4949e6f4",
   "metadata": {},
   "source": [
    "# SVM BAGGING"
   ]
  },
  {
   "cell_type": "code",
   "execution_count": 161,
   "id": "2395960e",
   "metadata": {},
   "outputs": [],
   "source": [
    "predfunct<-function (object, x)\n",
    "{\n",
    " if (is.character(lev(object))) {\n",
    "    out <- predict(object, as.matrix(x), type = \"probabilities\")\n",
    "    colnames(out) <- lev(object)\n",
    "    rownames(out) <- NULL\n",
    "  }\n",
    "  else out <- predict(object, as.matrix(x))[, 1]\n",
    "  out\n",
    "}"
   ]
  },
  {
   "cell_type": "code",
   "execution_count": 233,
   "id": "f01037b2",
   "metadata": {},
   "outputs": [
    {
     "data": {
      "text/plain": [
       "Bagged Model \n",
       "\n",
       "58 samples\n",
       "30 predictors\n",
       " 2 classes: 'B', 'M' \n",
       "\n",
       "No pre-processing\n",
       "Resampling: Cross-Validated (2 fold) \n",
       "Summary of sample sizes: 29, 29 \n",
       "Resampling results:\n",
       "\n",
       "  Accuracy   Kappa    \n",
       "  0.9482759  0.8894926\n",
       "\n",
       "Tuning parameter 'vars' was held constant at a value of 30"
      ]
     },
     "metadata": {},
     "output_type": "display_data"
    }
   ],
   "source": [
    "library(kernlab)\n",
    "ctrl <- trainControl(method = \"cv\", number = 2)\n",
    "bagctrl <- bagControl(fit = svmBag$fit, predict = predfunct,aggregate = svmBag$aggregate)\n",
    "set.seed(300)\n",
    "#svmbag <- train(class ~ .,B=30, data = train_dataset, \"bag\", trControl = ctrl, bagControl = bagctrl, C =1000, gamma=0.01)\n",
    "svmbag <- train(class ~ .,B=30, data = train_dataset, \"bag\", trControl = ctrl, bagControl = bagctrl)\n",
    "svmbag"
   ]
  },
  {
   "cell_type": "code",
   "execution_count": 231,
   "id": "9dc0c76b",
   "metadata": {},
   "outputs": [
    {
     "data": {
      "text/plain": [
       "      y_pred\n",
       "y_true  B  M\n",
       "     B 36  0\n",
       "     M  0 22"
      ]
     },
     "metadata": {},
     "output_type": "display_data"
    },
    {
     "data": {
      "text/html": [
       "1"
      ],
      "text/latex": [
       "1"
      ],
      "text/markdown": [
       "1"
      ],
      "text/plain": [
       "[1] 1"
      ]
     },
     "metadata": {},
     "output_type": "display_data"
    },
    {
     "data": {
      "text/html": [
       "1"
      ],
      "text/latex": [
       "1"
      ],
      "text/markdown": [
       "1"
      ],
      "text/plain": [
       "[1] 1"
      ]
     },
     "metadata": {},
     "output_type": "display_data"
    },
    {
     "data": {
      "text/html": [
       "1"
      ],
      "text/latex": [
       "1"
      ],
      "text/markdown": [
       "1"
      ],
      "text/plain": [
       "[1] 1"
      ]
     },
     "metadata": {},
     "output_type": "display_data"
    },
    {
     "data": {
      "text/html": [
       "1"
      ],
      "text/latex": [
       "1"
      ],
      "text/markdown": [
       "1"
      ],
      "text/plain": [
       "[1] 1"
      ]
     },
     "metadata": {},
     "output_type": "display_data"
    },
    {
     "data": {
      "text/html": [
       "1"
      ],
      "text/latex": [
       "1"
      ],
      "text/markdown": [
       "1"
      ],
      "text/plain": [
       "[1] 1"
      ]
     },
     "metadata": {},
     "output_type": "display_data"
    },
    {
     "data": {
      "text/html": [
       "1"
      ],
      "text/latex": [
       "1"
      ],
      "text/markdown": [
       "1"
      ],
      "text/plain": [
       "[1] 1"
      ]
     },
     "metadata": {},
     "output_type": "display_data"
    }
   ],
   "source": [
    "library(\"MLmetrics\")\n",
    "predicted_bytree <- predict(svmbag, train_dataset)\n",
    "#predicted_bytree\n",
    "#test_dataset\n",
    "ConfusionMatrix(predicted_bytree, train_dataset$class)\n",
    "ptest <- ifelse(predicted_bytree == \"M\", 1, 0)\n",
    "train_dataset_train <-ifelse(train_dataset$class == \"M\", 1, 0)\n",
    "AUC(ptest, train_dataset_train)\n",
    "Accuracy(predicted_bytree, train_dataset$class)\n",
    "Precision(predicted_bytree, train_dataset$class)\n",
    "Recall(predicted_bytree, train_dataset$class)\n",
    "F1_Score(train_dataset$class, predicted_bytree)\n",
    "f2score <- FBeta_Score(train_dataset_train, ptest, positive = \"1\", beta = 2)\n",
    "f2score"
   ]
  },
  {
   "cell_type": "code",
   "execution_count": 232,
   "id": "275e7887",
   "metadata": {},
   "outputs": [
    {
     "data": {
      "text/plain": [
       "      y_pred\n",
       "y_true   B   M\n",
       "     B 309  12\n",
       "     M  18 171"
      ]
     },
     "metadata": {},
     "output_type": "display_data"
    },
    {
     "data": {
      "text/html": [
       "0.933689363595906"
      ],
      "text/latex": [
       "0.933689363595906"
      ],
      "text/markdown": [
       "0.933689363595906"
      ],
      "text/plain": [
       "[1] 0.9336894"
      ]
     },
     "metadata": {},
     "output_type": "display_data"
    },
    {
     "data": {
      "text/html": [
       "0.941176470588235"
      ],
      "text/latex": [
       "0.941176470588235"
      ],
      "text/markdown": [
       "0.941176470588235"
      ],
      "text/plain": [
       "[1] 0.9411765"
      ]
     },
     "metadata": {},
     "output_type": "display_data"
    },
    {
     "data": {
      "text/html": [
       "0.962616822429907"
      ],
      "text/latex": [
       "0.962616822429907"
      ],
      "text/markdown": [
       "0.962616822429907"
      ],
      "text/plain": [
       "[1] 0.9626168"
      ]
     },
     "metadata": {},
     "output_type": "display_data"
    },
    {
     "data": {
      "text/html": [
       "0.944954128440367"
      ],
      "text/latex": [
       "0.944954128440367"
      ],
      "text/markdown": [
       "0.944954128440367"
      ],
      "text/plain": [
       "[1] 0.9449541"
      ]
     },
     "metadata": {},
     "output_type": "display_data"
    },
    {
     "data": {
      "text/html": [
       "0.953703703703704"
      ],
      "text/latex": [
       "0.953703703703704"
      ],
      "text/markdown": [
       "0.953703703703704"
      ],
      "text/plain": [
       "[1] 0.9537037"
      ]
     },
     "metadata": {},
     "output_type": "display_data"
    },
    {
     "data": {
      "text/html": [
       "0.910543130990415"
      ],
      "text/latex": [
       "0.910543130990415"
      ],
      "text/markdown": [
       "0.910543130990415"
      ],
      "text/plain": [
       "[1] 0.9105431"
      ]
     },
     "metadata": {},
     "output_type": "display_data"
    }
   ],
   "source": [
    "library(\"MLmetrics\")\n",
    "predicted_bytree <- predict(svmbag, test_dataset)\n",
    "#predicted_bytree\n",
    "#test_dataset\n",
    "ConfusionMatrix(predicted_bytree, test_dataset$class)\n",
    "ptest <- ifelse(predicted_bytree == \"M\", 1, 0)\n",
    "test_dataset_test <-ifelse(test_dataset$class == \"M\", 1, 0)\n",
    "AUC(ptest, test_dataset_test)\n",
    "Accuracy(predicted_bytree, test_dataset$class)\n",
    "Precision(predicted_bytree, test_dataset$class)\n",
    "Recall(predicted_bytree, test_dataset$class)\n",
    "F1_Score(test_dataset$class, predicted_bytree)\n",
    "f2score <- FBeta_Score(test_dataset_test, ptest, positive = \"1\", beta = 2)\n",
    "f2score"
   ]
  },
  {
   "cell_type": "markdown",
   "id": "2e6245e9",
   "metadata": {},
   "source": [
    "# NaiveBayes Bagging"
   ]
  },
  {
   "cell_type": "code",
   "execution_count": 240,
   "id": "595fbdb4",
   "metadata": {
    "scrolled": true
   },
   "outputs": [
    {
     "data": {
      "text/html": [
       "<pre class=language-r><code>function (x, y, ...) \n",
       "{\n",
       "<span style=white-space:pre-wrap>    loadNamespace(\"klaR\")</span>\n",
       "<span style=white-space:pre-wrap>    klaR::NaiveBayes(x, y, usekernel = TRUE, fL = 2, ...)</span>\n",
       "}</code></pre>"
      ],
      "text/latex": [
       "\\begin{minted}{r}\n",
       "function (x, y, ...) \n",
       "\\{\n",
       "    loadNamespace(\"klaR\")\n",
       "    klaR::NaiveBayes(x, y, usekernel = TRUE, fL = 2, ...)\n",
       "\\}\n",
       "\\end{minted}"
      ],
      "text/markdown": [
       "```r\n",
       "function (x, y, ...) \n",
       "{\n",
       "    loadNamespace(\"klaR\")\n",
       "    klaR::NaiveBayes(x, y, usekernel = TRUE, fL = 2, ...)\n",
       "}\n",
       "```"
      ],
      "text/plain": [
       "function (x, y, ...) \n",
       "{\n",
       "    loadNamespace(\"klaR\")\n",
       "    klaR::NaiveBayes(x, y, usekernel = TRUE, fL = 2, ...)\n",
       "}\n",
       "<bytecode: 0x000000000ba373a0>\n",
       "<environment: namespace:caret>"
      ]
     },
     "metadata": {},
     "output_type": "display_data"
    }
   ],
   "source": [
    "library(klaR)\n",
    "ctrl <- trainControl(method = \"cv\", number = 2)\n",
    "bagctrl <- bagControl(fit = nbBag$fit, predict = nbBag$pred,aggregate = nbBag$aggregate)\n",
    "set.seed(300)\n",
    "nbbag <- train(class ~ .,B=30, data = train_dataset, \"bag\", trControl = ctrl, bagControl = bagctrl)"
   ]
  },
  {
   "cell_type": "code",
   "execution_count": 247,
   "id": "a8bea5bd",
   "metadata": {
    "scrolled": true
   },
   "outputs": [
    {
     "ename": "ERROR",
     "evalue": "Error in predict(nbbag, train_dataset): nie znaleziono obiektu 'nbbag'\n",
     "output_type": "error",
     "traceback": [
      "Error in predict(nbbag, train_dataset): nie znaleziono obiektu 'nbbag'\nTraceback:\n",
      "1. predict(nbbag, train_dataset)"
     ]
    }
   ],
   "source": [
    "library(\"MLmetrics\")\n",
    "predicted_bytree <- predict(nbbag, train_dataset)\n",
    "#predicted_bytree\n",
    "#test_dataset\n",
    "ConfusionMatrix(predicted_bytree, train_dataset$class)\n",
    "ptest <- ifelse(predicted_bytree == \"M\", 1, 0)\n",
    "train_dataset_train <-ifelse(train_dataset$class == \"M\", 1, 0)\n",
    "AUC(ptest, train_dataset_train)\n",
    "Accuracy(predicted_bytree, train_dataset$class)\n",
    "Precision(predicted_bytree, train_dataset$class)\n",
    "Recall(predicted_bytree, train_dataset$class)\n",
    "F1_Score(train_dataset$class, predicted_bytree)\n",
    "f2score <- FBeta_Score(train_dataset_train, ptest, positive = \"1\", beta = 2)\n",
    "f2score"
   ]
  },
  {
   "cell_type": "code",
   "execution_count": null,
   "id": "91d7846c",
   "metadata": {},
   "outputs": [],
   "source": [
    "library(\"MLmetrics\")\n",
    "predicted_bytree <- predict(nbbag, test_dataset)\n",
    "#predicted_bytree\n",
    "#test_dataset\n",
    "ConfusionMatrix(predicted_bytree, test_dataset$class)\n",
    "ptest <- ifelse(predicted_bytree == \"M\", 1, 0)\n",
    "test_dataset_test <-ifelse(test_dataset$class == \"M\", 1, 0)\n",
    "AUC(ptest, test_dataset_test)\n",
    "Accuracy(predicted_bytree, test_dataset$class)\n",
    "Precision(predicted_bytree, test_dataset$class)\n",
    "Recall(predicted_bytree, test_dataset$class)\n",
    "F1_Score(test_dataset$class, predicted_bytree)\n",
    "f2score <- FBeta_Score(test_dataset_test, ptest, positive = \"1\", beta = 2)\n",
    "f2score"
   ]
  }
 ],
 "metadata": {
  "kernelspec": {
   "display_name": "R",
   "language": "R",
   "name": "ir"
  },
  "language_info": {
   "codemirror_mode": "r",
   "file_extension": ".r",
   "mimetype": "text/x-r-source",
   "name": "R",
   "pygments_lexer": "r",
   "version": "4.2.0"
  }
 },
 "nbformat": 4,
 "nbformat_minor": 5
}
