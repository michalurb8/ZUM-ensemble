{
 "cells": [
  {
   "cell_type": "code",
   "execution_count": 2,
   "id": "e4e05d80-4aac-4c93-94c7-c62965e9c794",
   "metadata": {},
   "outputs": [],
   "source": [
    "library('tidyverse')\n",
    "library('naivebayes')"
   ]
  },
  {
   "cell_type": "code",
   "execution_count": 3,
   "id": "fb804c53-0e13-42df-984a-01353d7b0cdd",
   "metadata": {},
   "outputs": [],
   "source": [
    "dataset <- read.csv(\"mushroomdata/agaricus-lepiota.csv\", header=FALSE, as.is=TRUE,\n",
    "                               strip.white=TRUE, colClasses=\"character\")"
   ]
  },
  {
   "cell_type": "code",
   "execution_count": 4,
   "id": "b32ec3b3-9c08-4b7b-a9f6-ed59672b640c",
   "metadata": {},
   "outputs": [],
   "source": [
    "colnames(dataset) <- c(\"class\", \"cap_shape\", \"cap_surface\", \n",
    "                        \"cap_color\", \"bruises\", \"odor\", \n",
    "                        \"gill_attachement\", \"gill_spacing\", \"gill_size\", \n",
    "                        \"gill_color\", \"stalk_shape\", \"stalk_root\", \n",
    "                        \"stalk_surface_above_ring\", \"stalk_surface_below_ring\", \"stalk_color_above_ring\", \n",
    "                        \"stalk_color_below_ring\", \"veil_type\", \"veil_color\", \n",
    "                        \"ring_number\", \"ring_type\", \"spore_print_color\", \n",
    "                        \"population\", \"habitat\")\n",
    "dataset <- dataset %>% map_df(function(.x) as.factor(.x))\n",
    "levels(dataset$class) <- c(\"edible\", \"poisonous\")\n",
    "levels(dataset$cap_shape) <- c(\"bell\", \"conical\", \"flat\", \"knobbed\", \"sunken\", \"convex\")\n",
    "levels(dataset$cap_color) <- c(\"buff\", \"cinnamon\", \"red\", \"gray\", \"brown\", \"pink\", \n",
    "                                \"green\", \"purple\", \"white\", \"yellow\")\n",
    "levels(dataset$cap_surface) <- c(\"fibrous\", \"grooves\", \"scaly\", \"smooth\")\n",
    "levels(dataset$bruises) <- c(\"no\", \"yes\")\n",
    "levels(dataset$odor) <- c(\"almond\", \"creosote\", \"foul\", \"anise\", \"musty\", \"none\", \"pungent\", \"spicy\", \"fishy\")\n",
    "levels(dataset$gill_attachement) <- c(\"attached\", \"free\")\n",
    "levels(dataset$gill_spacing) <- c(\"close\", \"crowded\")\n",
    "levels(dataset$gill_size) <- c(\"broad\", \"narrow\")\n",
    "levels(dataset$gill_color) <- c(\"buff\", \"red\", \"gray\", \"chocolate\", \"black\", \"brown\", \"orange\", \n",
    "                                 \"pink\", \"green\", \"purple\", \"white\", \"yellow\")\n",
    "levels(dataset$stalk_shape) <- c(\"enlarging\", \"tapering\")\n",
    "levels(dataset$stalk_root) <- c(\"missing\", \"bulbous\", \"club\", \"equal\", \"rooted\")\n",
    "levels(dataset$stalk_surface_above_ring) <- c(\"fibrous\", \"silky\", \"smooth\", \"scaly\")\n",
    "levels(dataset$stalk_surface_below_ring) <- c(\"fibrous\", \"silky\", \"smooth\", \"scaly\")\n",
    "levels(dataset$stalk_color_above_ring) <- c(\"buff\", \"cinnamon\", \"red\", \"gray\", \"brown\", \"pink\", \n",
    "                                \"green\", \"purple\", \"white\", \"yellow\")\n",
    "levels(dataset$stalk_color_below_ring) <- c(\"buff\", \"cinnamon\", \"red\", \"gray\", \"brown\", \"pink\", \n",
    "                                \"green\", \"purple\", \"white\", \"yellow\")\n",
    "levels(dataset$veil_type) <- \"partial\"\n",
    "levels(dataset$veil_color) <- c(\"brown\", \"orange\", \"white\", \"yellow\")\n",
    "levels(dataset$ring_number) <- c(\"none\", \"one\", \"two\")\n",
    "levels(dataset$ring_type) <- c(\"evanescent\", \"flaring\", \"large\", \"none\", \"pendant\")\n",
    "levels(dataset$spore_print_color) <- c(\"buff\", \"chocolate\", \"black\", \"brown\", \"orange\", \n",
    "                                        \"green\", \"purple\", \"white\", \"yellow\")\n",
    "levels(dataset$population) <- c(\"abundant\", \"clustered\", \"numerous\", \"scattered\", \"several\", \"solitary\")\n",
    "levels(dataset$habitat) <- c(\"wood\", \"grasses\", \"leaves\", \"meadows\", \"paths\", \"urban\", \"waste\")\n",
    "\n",
    "dataset <- dataset %>% select(- veil_type)"
   ]
  },
  {
   "cell_type": "code",
   "execution_count": 5,
   "id": "b8e4972a-162c-473b-9dad-847b48559651",
   "metadata": {},
   "outputs": [],
   "source": [
    "set.seed(1810)\n",
    "datasetsample <- caret::createDataPartition(y = dataset$class, times = 1, p = 0.1, list = FALSE)\n",
    "train_dataset <- dataset[datasetsample, ]\n",
    "test_dataset <- dataset[-datasetsample, ]"
   ]
  },
  {
   "cell_type": "markdown",
   "id": "f9d0489a-231c-4819-8618-c3cb0ea96555",
   "metadata": {},
   "source": [
    "Data ready, ensemble model:"
   ]
  },
  {
   "cell_type": "code",
   "execution_count": 29,
   "id": "1fd4759b-75e2-41cc-aa60-4f1efd09653b",
   "metadata": {},
   "outputs": [],
   "source": [
    "#function returning a list of trained models:\n",
    "ensemble <- function(model, dataset, mcount=10, pattr=0.8, ...) {\n",
    "  results <- list()\n",
    "  for (i in 1:mcount) {\n",
    "    attr_count <- max(1, floor(pattr * (ncol(dataset)-1))) # Of all columns, attr_count will be sampled.\n",
    "\n",
    "    bootstrapped <- sample_n(dataset, nrow(dataset), replace=T)\n",
    "      \n",
    "    attr_randomized <- sample(bootstrapped[,-1], attr_count)\n",
    "      \n",
    "    attr_randomized$class <- bootstrapped$class\n",
    "      \n",
    "    new_model <- model(class ~ ., data=attr_randomized, ...)\n",
    "    results[[i]] <- new_model\n",
    "  }\n",
    "  return(results)\n",
    "}\n",
    "\n",
    "model_ens <- ensemble(model=naive_bayes, dataset=train_dataset, mcount=10, pattr=0.5, usekernel=T, laplace=1)"
   ]
  },
  {
   "cell_type": "code",
   "execution_count": 30,
   "id": "3c8f7b95-1dae-4fa2-847b-9f2e73090f9b",
   "metadata": {},
   "outputs": [
    {
     "name": "stderr",
     "output_type": "stream",
     "text": [
      "Warning message:\n",
      "\"predict.naive_bayes(): more features in the newdata are provided as there are probability tables in the object. Calculation is performed based on features to be found in the tables.\"\n",
      "Warning message:\n",
      "\"predict.naive_bayes(): more features in the newdata are provided as there are probability tables in the object. Calculation is performed based on features to be found in the tables.\"\n",
      "Warning message:\n",
      "\"predict.naive_bayes(): more features in the newdata are provided as there are probability tables in the object. Calculation is performed based on features to be found in the tables.\"\n",
      "Warning message:\n",
      "\"predict.naive_bayes(): more features in the newdata are provided as there are probability tables in the object. Calculation is performed based on features to be found in the tables.\"\n",
      "Warning message:\n",
      "\"predict.naive_bayes(): more features in the newdata are provided as there are probability tables in the object. Calculation is performed based on features to be found in the tables.\"\n",
      "Warning message:\n",
      "\"predict.naive_bayes(): more features in the newdata are provided as there are probability tables in the object. Calculation is performed based on features to be found in the tables.\"\n",
      "Warning message:\n",
      "\"predict.naive_bayes(): more features in the newdata are provided as there are probability tables in the object. Calculation is performed based on features to be found in the tables.\"\n",
      "Warning message:\n",
      "\"predict.naive_bayes(): more features in the newdata are provided as there are probability tables in the object. Calculation is performed based on features to be found in the tables.\"\n",
      "Warning message:\n",
      "\"predict.naive_bayes(): more features in the newdata are provided as there are probability tables in the object. Calculation is performed based on features to be found in the tables.\"\n",
      "Warning message:\n",
      "\"predict.naive_bayes(): more features in the newdata are provided as there are probability tables in the object. Calculation is performed based on features to be found in the tables.\"\n"
     ]
    },
    {
     "name": "stdout",
     "output_type": "stream",
     "text": [
      "[[1]]\n",
      "        edible    poisonous\n",
      "[1,] 0.9866362 1.336377e-02\n",
      "[2,] 0.9999491 5.094853e-05\n",
      "[3,] 0.9999675 3.246254e-05\n",
      "\n",
      "[[2]]\n",
      "        edible    poisonous\n",
      "[1,] 0.5749479 0.4250521253\n",
      "[2,] 0.9938552 0.0061448451\n",
      "[3,] 0.9998579 0.0001420794\n",
      "\n",
      "[[3]]\n",
      "        edible    poisonous\n",
      "[1,] 0.9862269 0.0137731110\n",
      "[2,] 0.9914749 0.0085251208\n",
      "[3,] 0.9996046 0.0003954224\n",
      "\n",
      "[[4]]\n",
      "        edible  poisonous\n",
      "[1,] 0.9165732 0.08342684\n",
      "[2,] 0.8644683 0.13553168\n",
      "[3,] 0.9899799 0.01002008\n",
      "\n",
      "[[5]]\n",
      "        edible   poisonous\n",
      "[1,] 0.2687606 0.731239420\n",
      "[2,] 0.9940919 0.005908115\n",
      "[3,] 0.9983726 0.001627392\n",
      "\n",
      "[[6]]\n",
      "        edible    poisonous\n",
      "[1,] 0.9960595 0.0039405066\n",
      "[2,] 0.9990063 0.0009936661\n",
      "[3,] 0.9995695 0.0004304597\n",
      "\n",
      "[[7]]\n",
      "        edible    poisonous\n",
      "[1,] 0.0653799 9.346201e-01\n",
      "[2,] 0.9999633 3.669390e-05\n",
      "[3,] 0.9999928 7.224220e-06\n",
      "\n",
      "[[8]]\n",
      "        edible    poisonous\n",
      "[1,] 0.6943062 3.056938e-01\n",
      "[2,] 0.9994053 5.947006e-04\n",
      "[3,] 0.9999078 9.219506e-05\n",
      "\n",
      "[[9]]\n",
      "         edible    poisonous\n",
      "[1,] 0.00318249 9.968175e-01\n",
      "[2,] 0.99999042 9.582904e-06\n",
      "[3,] 0.99999990 9.638968e-08\n",
      "\n",
      "[[10]]\n",
      "        edible    poisonous\n",
      "[1,] 0.9411747 5.882530e-02\n",
      "[2,] 0.9999467 5.325670e-05\n",
      "[3,] 0.9999988 1.221704e-06\n",
      "\n"
     ]
    },
    {
     "name": "stderr",
     "output_type": "stream",
     "text": [
      "Warning message in mean.default(predictions):\n",
      "\"argument nie jest wartością liczbową ani logiczną: zwracanie wartości NA\"\n"
     ]
    }
   ],
   "source": [
    "# a function predicting the class probabilities for a given ensemble model and data\n",
    "predict_fun <- function (ensemble_model, dataset) {\n",
    "    predictions <- list()\n",
    "    for (i in 1:length(ensemble_model)) {\n",
    "        predictions[[i]] <- predict(ensemble_model[[i]], dataset, type=\"prob\")\n",
    "    }\n",
    "    print(predictions)\n",
    "    result <- mean(predictions) #Doesn't work -- need to average multiple identical, numerical dataframes\n",
    "}\n",
    "\n",
    "predict_fun(model_ens, test_dataset[1:3,])"
   ]
  }
 ],
 "metadata": {
  "kernelspec": {
   "display_name": "R",
   "language": "R",
   "name": "ir"
  },
  "language_info": {
   "codemirror_mode": "r",
   "file_extension": ".r",
   "mimetype": "text/x-r-source",
   "name": "R",
   "pygments_lexer": "r",
   "version": "4.2.0"
  }
 },
 "nbformat": 4,
 "nbformat_minor": 5
}
